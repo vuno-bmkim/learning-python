{
 "cells": [
  {
   "cell_type": "markdown",
   "metadata": {},
   "source": [
    "# LEGB rule of Scopes\n",
    "* Python 변수(name) 참조시 local -> enclosing -> global -> built-in 순서로 탐색하여 우선적으로 발견되는 name을 선택한다. "
   ]
  },
  {
   "cell_type": "code",
   "execution_count": 9,
   "metadata": {},
   "outputs": [
    {
     "name": "stdout",
     "output_type": "stream",
     "text": [
      "5\n",
      "7\n"
     ]
    }
   ],
   "source": [
    "# Local versus Global\n",
    "# global scope m이 있지만 local scope m이 우선된다. \n",
    "\n",
    "# we define a function, called local\n",
    "def local():\n",
    "    m= 7\n",
    "    print(m)\n",
    "\n",
    "m= 5\n",
    "print(m)\n",
    "\n",
    "# we call, or `execute` the function local\n",
    "local()"
   ]
  },
  {
   "cell_type": "code",
   "execution_count": 10,
   "metadata": {},
   "outputs": [
    {
     "name": "stdout",
     "output_type": "stream",
     "text": [
      "5 printing from the global scope\n",
      "5 printing from the local scope\n"
     ]
    }
   ],
   "source": [
    "# Local versus Global\n",
    "# local -> enclosing -> global 순으로 탐색하다 global scope m이 출력된다. \n",
    "\n",
    "\n",
    "def local():\n",
    "    # m doesn't belong to the scope defined by the local function\n",
    "    # so Python will keep looking into the next enclosing scope.\n",
    "    # m is finally found in the global scope\n",
    "    print(m, 'printing from the local scope')\n",
    "\n",
    "m= 5\n",
    "print(m, 'printing from the global scope')\n",
    "\n",
    "local()"
   ]
  },
  {
   "cell_type": "code",
   "execution_count": 11,
   "metadata": {},
   "outputs": [
    {
     "name": "stdout",
     "output_type": "stream",
     "text": [
      "5 printing from the global scope\n",
      "13 printing from the local scope\n"
     ]
    }
   ],
   "source": [
    "# Local, Enclosing and Global\n",
    "# local -> enclosing 순으로 탐색하다 encolsing scope m이 출력된다. \n",
    "\n",
    "def enclosing_func():\n",
    "    m = 13\n",
    "    def local():\n",
    "        # m doesn't belong to the scope defined by the local\n",
    "        # function so Python will keep looking into the next\n",
    "        # enclosing scope. This time m is found in the enclosing\n",
    "        # scope\n",
    "        print(m, 'printing from the local scope')\n",
    "       \n",
    "    # calling the function local\n",
    "    local()\n",
    "    \n",
    "m= 5\n",
    "print(m, 'printing from the global scope')\n",
    "enclosing_func()"
   ]
  },
  {
   "cell_type": "markdown",
   "metadata": {},
   "source": [
    "# Object and classes\n",
    "* object = instance of a class\n",
    "* Python에서 앞뒤로 __ (double underscore) 를 가지는 메소드를 **magic method**라 부른다. 이는 Python의 다양항 목적을 수행하기 위해 사용되기 위한 것으로 개발자는 메소드 작성시 이러한 컨벤션을 피하는 것이 좋다. (표준 라이브러리 같은건가..? 아니면 built-in language construct인가?)"
   ]
  },
  {
   "cell_type": "code",
   "execution_count": 14,
   "metadata": {},
   "outputs": [
    {
     "name": "stdout",
     "output_type": "stream",
     "text": [
      "Red\n",
      "Carbon fiber\n",
      "Blue\n",
      "Steel\n",
      "Braking!\n"
     ]
    }
   ],
   "source": [
    "# let's define the class Bike\n",
    "class Bike:\n",
    "    # initializer \n",
    "    def __init__(self, colour, frame_material):\n",
    "        self.colour = colour\n",
    "        self.frame_material = frame_material\n",
    "        \n",
    "    def brake(self):\n",
    "        print(\"Braking!\")\n",
    "    \n",
    "# let's create a couple of instances\n",
    "red_bike = Bike('Red', 'Carbon fiber')\n",
    "blue_bike = Bike('Blue', 'Steel')\n",
    "\n",
    "# let's inspect the objects we have, instances of the Bike class.\n",
    "print(red_bike.colour)  # prints: Red\n",
    "print(red_bike.frame_material)  # prints: Carbon fiber\n",
    "print(blue_bike.colour)  # prints: Blue\n",
    "print(blue_bike.frame_material)  #  prints: Steel\n",
    "\n",
    "# let's brake!\n",
    "red_bike.brake()  # prints: Braking!"
   ]
  }
 ],
 "metadata": {
  "kernelspec": {
   "display_name": "Python 3",
   "language": "python",
   "name": "python3"
  },
  "language_info": {
   "codemirror_mode": {
    "name": "ipython",
    "version": 3
   },
   "file_extension": ".py",
   "mimetype": "text/x-python",
   "name": "python",
   "nbconvert_exporter": "python",
   "pygments_lexer": "ipython3",
   "version": "3.6.5"
  }
 },
 "nbformat": 4,
 "nbformat_minor": 2
}
