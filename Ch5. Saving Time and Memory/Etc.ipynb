{
 "cells": [
  {
   "cell_type": "markdown",
   "metadata": {},
   "source": [
    "# Space performance"
   ]
  },
  {
   "cell_type": "code",
   "execution_count": 1,
   "metadata": {},
   "outputs": [
    {
     "ename": "KeyboardInterrupt",
     "evalue": "",
     "output_type": "error",
     "traceback": [
      "\u001b[0;31m---------------------------------------------------------------------------\u001b[0m",
      "\u001b[0;31mKeyboardInterrupt\u001b[0m                         Traceback (most recent call last)",
      "\u001b[0;32m~/Documents/dev/learning-python/.lpvenv/lib/python3.6/site-packages/IPython/core/interactiveshell.py\u001b[0m in \u001b[0;36mrun_code\u001b[0;34m(self, code_obj, result, async_)\u001b[0m\n\u001b[1;32m   3290\u001b[0m                 \u001b[0;32melse\u001b[0m\u001b[0;34m:\u001b[0m\u001b[0;34m\u001b[0m\u001b[0m\n\u001b[0;32m-> 3291\u001b[0;31m                     \u001b[0mexec\u001b[0m\u001b[0;34m(\u001b[0m\u001b[0mcode_obj\u001b[0m\u001b[0;34m,\u001b[0m \u001b[0mself\u001b[0m\u001b[0;34m.\u001b[0m\u001b[0muser_global_ns\u001b[0m\u001b[0;34m,\u001b[0m \u001b[0mself\u001b[0m\u001b[0;34m.\u001b[0m\u001b[0muser_ns\u001b[0m\u001b[0;34m)\u001b[0m\u001b[0;34m\u001b[0m\u001b[0m\n\u001b[0m\u001b[1;32m   3292\u001b[0m             \u001b[0;32mfinally\u001b[0m\u001b[0;34m:\u001b[0m\u001b[0;34m\u001b[0m\u001b[0m\n",
      "\u001b[0;32m<ipython-input-1-908ee186d18d>\u001b[0m in \u001b[0;36m<module>\u001b[0;34m\u001b[0m\n\u001b[1;32m      3\u001b[0m \u001b[0;31m# kill이 안되더라도 메모리가 일단 30gb까지 엄청나게 증가했음..\u001b[0m\u001b[0;34m\u001b[0m\u001b[0;34m\u001b[0m\u001b[0m\n\u001b[0;32m----> 4\u001b[0;31m \u001b[0ms1\u001b[0m \u001b[0;34m=\u001b[0m \u001b[0msum\u001b[0m\u001b[0;34m(\u001b[0m\u001b[0;34m[\u001b[0m\u001b[0mn\u001b[0m\u001b[0;34m**\u001b[0m\u001b[0;36m2\u001b[0m \u001b[0;32mfor\u001b[0m \u001b[0mn\u001b[0m \u001b[0;32min\u001b[0m \u001b[0mrange\u001b[0m\u001b[0;34m(\u001b[0m\u001b[0;36m10\u001b[0m\u001b[0;34m**\u001b[0m\u001b[0;36m10\u001b[0m\u001b[0;34m)\u001b[0m\u001b[0;34m]\u001b[0m\u001b[0;34m)\u001b[0m\u001b[0;34m\u001b[0m\u001b[0m\n\u001b[0m\u001b[1;32m      5\u001b[0m \u001b[0;34m\u001b[0m\u001b[0m\n",
      "\u001b[0;32m<ipython-input-1-908ee186d18d>\u001b[0m in \u001b[0;36m<listcomp>\u001b[0;34m(.0)\u001b[0m\n\u001b[1;32m      3\u001b[0m \u001b[0;31m# kill이 안되더라도 메모리가 일단 30gb까지 엄청나게 증가했음..\u001b[0m\u001b[0;34m\u001b[0m\u001b[0;34m\u001b[0m\u001b[0m\n\u001b[0;32m----> 4\u001b[0;31m \u001b[0ms1\u001b[0m \u001b[0;34m=\u001b[0m \u001b[0msum\u001b[0m\u001b[0;34m(\u001b[0m\u001b[0;34m[\u001b[0m\u001b[0mn\u001b[0m\u001b[0;34m**\u001b[0m\u001b[0;36m2\u001b[0m \u001b[0;32mfor\u001b[0m \u001b[0mn\u001b[0m \u001b[0;32min\u001b[0m \u001b[0mrange\u001b[0m\u001b[0;34m(\u001b[0m\u001b[0;36m10\u001b[0m\u001b[0;34m**\u001b[0m\u001b[0;36m10\u001b[0m\u001b[0;34m)\u001b[0m\u001b[0;34m]\u001b[0m\u001b[0;34m)\u001b[0m\u001b[0;34m\u001b[0m\u001b[0m\n\u001b[0m\u001b[1;32m      5\u001b[0m \u001b[0;34m\u001b[0m\u001b[0m\n",
      "\u001b[0;31mKeyboardInterrupt\u001b[0m: ",
      "\nDuring handling of the above exception, another exception occurred:\n",
      "\u001b[0;31mKeyboardInterrupt\u001b[0m                         Traceback (most recent call last)",
      "\u001b[0;31mKeyboardInterrupt\u001b[0m: "
     ]
    }
   ],
   "source": [
    "# 아래 코드의 경우 list를 모두 만든 뒤에 sum을 하는데, \n",
    "# 이 리스트가 너무 크다보니 out of memory가 되어 프로세스가 kill된다. \n",
    "# kill이 안되더라도 메모리가 일단 30gb까지 엄청나게 증가했음.. \n",
    "s1 = sum([n**2 for n in range(10**10)])\n",
    "\n",
    "print(s1)"
   ]
  },
  {
   "cell_type": "code",
   "execution_count": 2,
   "metadata": {},
   "outputs": [
    {
     "ename": "KeyboardInterrupt",
     "evalue": "",
     "output_type": "error",
     "traceback": [
      "\u001b[0;31m---------------------------------------------------------------------------\u001b[0m",
      "\u001b[0;31mKeyboardInterrupt\u001b[0m                         Traceback (most recent call last)",
      "\u001b[0;32m<ipython-input-2-cf17aefdc0c7>\u001b[0m in \u001b[0;36m<module>\u001b[0;34m\u001b[0m\n\u001b[1;32m      5\u001b[0m \u001b[0;31m# s2 = sum((n**2 for n in range(10**8))) #아래 s3와 동일한 코드임 (괄호가 중복된 것)\u001b[0m\u001b[0;34m\u001b[0m\u001b[0;34m\u001b[0m\u001b[0m\n\u001b[1;32m      6\u001b[0m \u001b[0;31m# 하지만 time이 더 좋아지는 것은 아님.\u001b[0m\u001b[0;34m\u001b[0m\u001b[0;34m\u001b[0m\u001b[0m\n\u001b[0;32m----> 7\u001b[0;31m \u001b[0ms3\u001b[0m \u001b[0;34m=\u001b[0m \u001b[0msum\u001b[0m\u001b[0;34m(\u001b[0m\u001b[0mn\u001b[0m\u001b[0;34m**\u001b[0m\u001b[0;36m2\u001b[0m \u001b[0;32mfor\u001b[0m \u001b[0mn\u001b[0m \u001b[0;32min\u001b[0m \u001b[0mrange\u001b[0m\u001b[0;34m(\u001b[0m\u001b[0;36m10\u001b[0m\u001b[0;34m**\u001b[0m\u001b[0;36m10\u001b[0m\u001b[0;34m)\u001b[0m\u001b[0;34m)\u001b[0m\u001b[0;34m\u001b[0m\u001b[0m\n\u001b[0m\u001b[1;32m      8\u001b[0m \u001b[0;34m\u001b[0m\u001b[0m\n\u001b[1;32m      9\u001b[0m \u001b[0mprint\u001b[0m\u001b[0;34m(\u001b[0m\u001b[0ms3\u001b[0m\u001b[0;34m)\u001b[0m\u001b[0;34m\u001b[0m\u001b[0m\n",
      "\u001b[0;32m<ipython-input-2-cf17aefdc0c7>\u001b[0m in \u001b[0;36m<genexpr>\u001b[0;34m(.0)\u001b[0m\n\u001b[1;32m      5\u001b[0m \u001b[0;31m# s2 = sum((n**2 for n in range(10**8))) #아래 s3와 동일한 코드임 (괄호가 중복된 것)\u001b[0m\u001b[0;34m\u001b[0m\u001b[0;34m\u001b[0m\u001b[0m\n\u001b[1;32m      6\u001b[0m \u001b[0;31m# 하지만 time이 더 좋아지는 것은 아님.\u001b[0m\u001b[0;34m\u001b[0m\u001b[0;34m\u001b[0m\u001b[0m\n\u001b[0;32m----> 7\u001b[0;31m \u001b[0ms3\u001b[0m \u001b[0;34m=\u001b[0m \u001b[0msum\u001b[0m\u001b[0;34m(\u001b[0m\u001b[0mn\u001b[0m\u001b[0;34m**\u001b[0m\u001b[0;36m2\u001b[0m \u001b[0;32mfor\u001b[0m \u001b[0mn\u001b[0m \u001b[0;32min\u001b[0m \u001b[0mrange\u001b[0m\u001b[0;34m(\u001b[0m\u001b[0;36m10\u001b[0m\u001b[0;34m**\u001b[0m\u001b[0;36m10\u001b[0m\u001b[0;34m)\u001b[0m\u001b[0;34m)\u001b[0m\u001b[0;34m\u001b[0m\u001b[0m\n\u001b[0m\u001b[1;32m      8\u001b[0m \u001b[0;34m\u001b[0m\u001b[0m\n\u001b[1;32m      9\u001b[0m \u001b[0mprint\u001b[0m\u001b[0;34m(\u001b[0m\u001b[0ms3\u001b[0m\u001b[0;34m)\u001b[0m\u001b[0;34m\u001b[0m\u001b[0m\n",
      "\u001b[0;31mKeyboardInterrupt\u001b[0m: "
     ]
    }
   ],
   "source": [
    "# 한편, 아래 코드는 generator로 sum을 구하는 방식이어서 \n",
    "# for문이 돌 때마다 결과가 나오고 그 결과를 더하고, 또 하나 구하고 결과를 더하는 식이어서 \n",
    "# 엄청나게 큰 리스트가 생성되지 않으므로 결과가 출력된다. \n",
    "# 일단 메모리가 증가하지 않음. \n",
    "# s2 = sum((n**2 for n in range(10**8))) #아래 s3와 동일한 코드임 (괄호가 중복된 것)\n",
    "# 하지만 time이 더 좋아지는 것은 아님. \n",
    "s3 = sum(n**2 for n in range(10**10))\n",
    "\n",
    "print(s3)"
   ]
  },
  {
   "cell_type": "markdown",
   "metadata": {},
   "source": [
    "# Time Performance"
   ]
  },
  {
   "cell_type": "code",
   "execution_count": 7,
   "metadata": {},
   "outputs": [
    {
     "name": "stdout",
     "output_type": "stream",
     "text": [
      "for loop: 6.3162 s\n",
      "list comprehension: 4.5011 s\n",
      "generator expression: 4.8655 s\n",
      "True 15122250\n"
     ]
    }
   ],
   "source": [
    "from time import time\n",
    "mx = 5500 # this is the max I could reach with my computer...\n",
    "\n",
    "# 1. for loop\n",
    "t = time() # start time for the for loop \n",
    "dmloop = []\n",
    "for a in range(1, mx):\n",
    "    for b in range(a, mx):\n",
    "        dmloop.append(divmod(a, b))\n",
    "print('for loop: {:.4f} s'.format(time() - t)) # elapsed time\n",
    "\n",
    "\n",
    "# 2. list_comprehension\n",
    "t = time()  # start time for the list comprehension\n",
    "dmlist = [\n",
    "    divmod(a, b) for a in range(1, mx) for b in range(a, mx)]\n",
    "print('list comprehension: {:.4f} s'.format(time() - t))\n",
    "\n",
    "\n",
    "# 3. generator expression\n",
    "t = time()  # start time for the generator expression\n",
    "dmgen = list(\n",
    "    divmod(a, b) for a in range(1, mx) for b in range(a, mx))\n",
    "print('generator expression: {:.4f} s'.format(time() - t))\n",
    "\n",
    "\n",
    "\n",
    "# verify correctness of results and number of items in each list\n",
    "print(dmloop == dmlist == dmgen, len(dmloop))"
   ]
  },
  {
   "cell_type": "code",
   "execution_count": 9,
   "metadata": {},
   "outputs": [
    {
     "name": "stdout",
     "output_type": "stream",
     "text": [
      "for loop: 5.1321 s\n",
      "list comprehension: 3.0389 s\n",
      "map: 1.6522 s\n",
      "True 20000000\n"
     ]
    }
   ],
   "source": [
    "from time import time\n",
    "mx = 2 * 10 ** 7\n",
    "\n",
    "t = time()\n",
    "absloop = []\n",
    "for n in range(mx):\n",
    "    absloop.append(abs(n))\n",
    "print('for loop: {:.4f} s'.format(time() - t))\n",
    "\n",
    "t = time()\n",
    "abslist = [abs(n) for n in range(mx)]\n",
    "print('list comprehension: {:.4f} s'.format(time() - t))\n",
    "\n",
    "t = time()\n",
    "absmap = list(map(abs, range(mx)))\n",
    "print('map: {:.4f} s'.format(time() - t))\n",
    "\n",
    "print(absloop == abslist == absmap, len(absloop))"
   ]
  },
  {
   "cell_type": "markdown",
   "metadata": {},
   "source": [
    "# Name localization"
   ]
  },
  {
   "cell_type": "code",
   "execution_count": 16,
   "metadata": {},
   "outputs": [
    {
     "name": "stdout",
     "output_type": "stream",
     "text": [
      "100\n",
      "100\n",
      "100\n",
      "100\n",
      "4\n"
     ]
    }
   ],
   "source": [
    "A = 100\n",
    "\n",
    "ex1 = [A for A in range(5)]\n",
    "print(A)  # prints: 100\n",
    "\n",
    "ex2 = list(A for A in range(5))\n",
    "print(A)  # prints: 100\n",
    "\n",
    "ex3 = dict((A, 2 * A) for A in range(5))\n",
    "print(A)  # prints: 100\n",
    "\n",
    "ex4 = set(A for A in range(5))\n",
    "print(A)  # prints: 100\n",
    "\n",
    "s= 0\n",
    "for A in range(5):\n",
    "    s += A\n",
    "print(A)  # prints: 4\n",
    "\n",
    "# for loop의 경우만 지칭을 목적으로 사용하는 변수가 global namesapece에 대응된다. "
   ]
  },
  {
   "cell_type": "markdown",
   "metadata": {},
   "source": [
    "# Fibonacci"
   ]
  },
  {
   "cell_type": "code",
   "execution_count": 17,
   "metadata": {},
   "outputs": [
    {
     "name": "stdout",
     "output_type": "stream",
     "text": [
      "[0]\n",
      "[0, 1, 1]\n",
      "[0, 1, 1, 2, 3, 5, 8, 13, 21, 34]\n"
     ]
    }
   ],
   "source": [
    "def fibonacci(N):\n",
    "    \"\"\"Return all fibonacci numbers up to N. \"\"\"\n",
    "    result = [0]\n",
    "    next_n = 1\n",
    "    while next_n <= N:\n",
    "        result.append(next_n)\n",
    "        next_n = sum(result[-2:])\n",
    "    return result\n",
    "\n",
    "print(fibonacci(0))  # [0]\n",
    "print(fibonacci(1))  # [0, 1, 1]\n",
    "print(fibonacci(50))  # [0, 1, 1, 2, 3, 5, 8, 13, 21, 34]"
   ]
  },
  {
   "cell_type": "code",
   "execution_count": 18,
   "metadata": {},
   "outputs": [
    {
     "name": "stdout",
     "output_type": "stream",
     "text": [
      "[0]\n",
      "[0, 1, 1]\n",
      "[0, 1, 1, 2, 3, 5, 8, 13, 21, 34]\n"
     ]
    }
   ],
   "source": [
    "def fibonacci(N):\n",
    "    \"\"\"Return all fibonacci numbers up to N. \"\"\" \n",
    "    yield 0\n",
    "    if N == 0:\n",
    "        return\n",
    "    a= 0\n",
    "    b= 1\n",
    "    while b <= N:\n",
    "        yield b\n",
    "        a, b = b, a + b\n",
    "        \n",
    "print(list(fibonacci(0)))  # [0]\n",
    "print(list(fibonacci(1)))  # [0, 1, 1]\n",
    "print(list(fibonacci(50))) # [0, 1, 1, 2, 3, 5, 8, 13, 21, 34]"
   ]
  },
  {
   "cell_type": "code",
   "execution_count": 20,
   "metadata": {},
   "outputs": [
    {
     "name": "stdout",
     "output_type": "stream",
     "text": [
      "[0]\n",
      "[0, 1, 1]\n",
      "[0, 1, 1, 2, 3, 5, 8, 13, 21, 34]\n"
     ]
    }
   ],
   "source": [
    "def fibonacci(N):\n",
    "    \"\"\"Return all fibonacci numbers up to N. \"\"\"\n",
    "    a, b = 0, 1\n",
    "    while a <= N:\n",
    "        yield a\n",
    "        a, b = b, a + b\n",
    "        \n",
    "print(list(fibonacci(0)))  # [0]\n",
    "print(list(fibonacci(1)))  # [0, 1, 1]\n",
    "print(list(fibonacci(50))) # [0, 1, 1, 2, 3, 5, 8, 13, 21, 34]"
   ]
  },
  {
   "cell_type": "code",
   "execution_count": null,
   "metadata": {},
   "outputs": [],
   "source": []
  }
 ],
 "metadata": {
  "kernelspec": {
   "display_name": "Python 3",
   "language": "python",
   "name": "python3"
  },
  "language_info": {
   "codemirror_mode": {
    "name": "ipython",
    "version": 3
   },
   "file_extension": ".py",
   "mimetype": "text/x-python",
   "name": "python",
   "nbconvert_exporter": "python",
   "pygments_lexer": "ipython3",
   "version": "3.6.5"
  }
 },
 "nbformat": 4,
 "nbformat_minor": 2
}
