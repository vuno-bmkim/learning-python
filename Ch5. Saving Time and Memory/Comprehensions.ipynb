{
 "cells": [
  {
   "cell_type": "code",
   "execution_count": 2,
   "metadata": {},
   "outputs": [
    {
     "name": "stdout",
     "output_type": "stream",
     "text": [
      "[0, 1, 4, 9, 16, 25, 36, 49, 64, 81]\n",
      "[0, 1, 4, 9, 16, 25, 36, 49, 64, 81]\n",
      "[0, 1, 4, 9, 16, 25, 36, 49, 64, 81]\n"
     ]
    }
   ],
   "source": [
    "# If you code like this you are not a Python guy! ;)\n",
    "squares = []\n",
    "for n in range(10):\n",
    "    squares.append(n ** 2)\n",
    "\n",
    "print(list(squares))\n",
    "\n",
    "\n",
    "# This is better, one line, nice and readable\n",
    "squares = map(lambda n: n**2, range(10))\n",
    "print(list(squares))\n",
    "\n",
    "# list comprehension (가독성이 더 좋고, 영어 읽는 것과 유사함)\n",
    "squares = [n ** 2 for n in range(10)]\n",
    "print(list(squares))"
   ]
  },
  {
   "cell_type": "code",
   "execution_count": 5,
   "metadata": {},
   "outputs": [
    {
     "name": "stdout",
     "output_type": "stream",
     "text": [
      "[0, 4, 16, 36, 64]\n",
      "[0, 4, 16, 36, 64]\n"
     ]
    }
   ],
   "source": [
    "# 0 .. 9 까지를 제곱 후 제곱수가 짝수인 것만 추리기 \n",
    "\n",
    "# using map and filter\n",
    "sq1 = list(\n",
    "    filter(lambda n: not n % 2, map(lambda n: n ** 2, range(10)))\n",
    ")\n",
    "   \n",
    "# equivalent, but using list comprehensions (가독성이 더 좋고, 영어 읽는 것과 유사함)\n",
    "sq2 = [n ** 2 for n in range(10) if not n % 2]\n",
    "\n",
    "print(sq1)\n",
    "print(sq2)"
   ]
  },
  {
   "cell_type": "markdown",
   "metadata": {},
   "source": [
    "# Nested comprehensions"
   ]
  },
  {
   "cell_type": "code",
   "execution_count": 8,
   "metadata": {},
   "outputs": [
    {
     "name": "stdout",
     "output_type": "stream",
     "text": [
      "[('A', 'A'), ('A', 'B'), ('A', 'C'), ('A', 'D'), ('A', 'E'), ('B', 'B'), ('B', 'C'), ('B', 'D'), ('B', 'E'), ('C', 'C'), ('C', 'D'), ('C', 'E'), ('D', 'D'), ('D', 'E'), ('E', 'E')]\n",
      "[('A', 'A'), ('A', 'B'), ('A', 'C'), ('A', 'D'), ('A', 'E'), ('B', 'B'), ('B', 'C'), ('B', 'D'), ('B', 'E'), ('C', 'C'), ('C', 'D'), ('C', 'E'), ('D', 'D'), ('D', 'E'), ('E', 'E')]\n"
     ]
    }
   ],
   "source": [
    "items = 'ABCDE'\n",
    "pairs = []\n",
    "for a in range(len(items)):\n",
    "    for b in range(a, len(items)):\n",
    "           pairs.append((items[a], items[b]))\n",
    "print(pairs)\n",
    "\n",
    "items = 'ABCDE'\n",
    "# 앞에 for loop가 더 상위에 돌고, 그 내부에서 뒤의 for loop가 돔 \n",
    "pairs = [(items[a], items[b])\n",
    "         for a in range(len(items)) for b in range(a, len(items))]\n",
    "print(pairs)"
   ]
  },
  {
   "cell_type": "markdown",
   "metadata": {},
   "source": [
    "# Filtering a comprehension"
   ]
  },
  {
   "cell_type": "code",
   "execution_count": 11,
   "metadata": {},
   "outputs": [
    {
     "name": "stdout",
     "output_type": "stream",
     "text": [
      "[(3, 4, 5.0), (6, 8, 10.0)]\n",
      "[(3, 4, 5), (6, 8, 10)]\n",
      "[(3, 4, 5), (6, 8, 10)]\n"
     ]
    }
   ],
   "source": [
    "from math import sqrt\n",
    "# this will generate all possible pairs\n",
    "mx = 10\n",
    "legs = [(a, b, sqrt(a**2 + b**2))\n",
    "        for a in range(1, mx) for b in range(a, mx)]\n",
    "\n",
    "# this will filter out all non pythagorean triples\n",
    "legs = list(\n",
    "    filter(lambda triple: triple[2].is_integer(), legs)) \n",
    "print(legs) # prints: [(3, 4, 5.0), (6, 8, 10.0)]\n",
    "\n",
    "\n",
    "\n",
    "# 위와 동일한데, 3번째 값을 정수화 시켜주는 코드 \n",
    "from math import sqrt\n",
    "mx = 10\n",
    "legs = [(a, b, sqrt(a**2 + b**2))\n",
    "        for a in range(1, mx) for b in range(a, mx)]\n",
    "legs = filter(lambda triple: triple[2].is_integer(), legs)\n",
    "\n",
    "# this will make the third number in the tuples integer\n",
    "legs = list(\n",
    "    map(lambda triple: triple[:2] + (int(triple[2]), ), legs)) \n",
    "print(legs) # prints: [(3, 4, 5), (6, 8, 10)]\n",
    "\n",
    "\n",
    "\n",
    "# 2번째 코드 간소화 (filter & map을 list comprehension으로 변경)\n",
    "from math import sqrt\n",
    "# this step is the same as before\n",
    "mx = 10\n",
    "legs = [(a, b, sqrt(a**2 + b**2))\n",
    "        for a in range(1, mx) for b in range(a, mx)]\n",
    "# here we combine filter and map in one CLEAN list comprehension \n",
    "legs = [(a, b, int(c)) for a, b, c in legs if c.is_integer()] \n",
    "print(legs) # prints: [(3, 4, 5), (6, 8, 10)]"
   ]
  },
  {
   "cell_type": "markdown",
   "metadata": {},
   "source": [
    "# dict comprehensions "
   ]
  },
  {
   "cell_type": "code",
   "execution_count": 14,
   "metadata": {},
   "outputs": [
    {
     "name": "stdout",
     "output_type": "stream",
     "text": [
      "{'a': 1, 'b': 2, 'c': 3, 'd': 4, 'e': 5, 'f': 6, 'g': 7, 'h': 8, 'i': 9, 'j': 10, 'k': 11, 'l': 12, 'm': 13, 'n': 14, 'o': 15, 'p': 16, 'q': 17, 'r': 18, 's': 19, 't': 20, 'u': 21, 'v': 22, 'w': 23, 'x': 24, 'y': 25, 'z': 26}\n",
      "{'a': 1, 'b': 2, 'c': 3, 'd': 4, 'e': 5, 'f': 6, 'g': 7, 'h': 8, 'i': 9, 'j': 10, 'k': 11, 'l': 12, 'm': 13, 'n': 14, 'o': 15, 'p': 16, 'q': 17, 'r': 18, 's': 19, 't': 20, 'u': 21, 'v': 22, 'w': 23, 'x': 24, 'y': 25, 'z': 26}\n"
     ]
    }
   ],
   "source": [
    "from string import ascii_lowercase\n",
    "lettermap = dict((c, k) for k, c in enumerate(ascii_lowercase, 1))\n",
    "print(lettermap)\n",
    "\n",
    "lettermap = {c: k for k, c in enumerate(ascii_lowercase, 1)}\n",
    "print(lettermap)"
   ]
  },
  {
   "cell_type": "code",
   "execution_count": 16,
   "metadata": {},
   "outputs": [
    {
     "name": "stdout",
     "output_type": "stream",
     "text": [
      "{'H': 'h', 'e': 'E', 'l': 'L', 'o': 'O'}\n",
      "{'H': 0, 'e': 1, 'l': 3, 'o': 4}\n"
     ]
    }
   ],
   "source": [
    "word = 'Hello'\n",
    "swaps = {c: c.swapcase() for c in word}\n",
    "\n",
    "# dictionary key는 unique하여 L이 2개지만 하나만 남음\n",
    "print(swaps) \n",
    "\n",
    "word = 'Hello'\n",
    "positions = {c: k for k, c in enumerate(word)} \n",
    "# 뒤에것에 의해 overriden 됨 ('l':2가 아니라 'l':3이 남음)\n",
    "print(positions) "
   ]
  },
  {
   "cell_type": "markdown",
   "metadata": {},
   "source": [
    "# set comprehensions"
   ]
  },
  {
   "cell_type": "code",
   "execution_count": 18,
   "metadata": {},
   "outputs": [
    {
     "name": "stdout",
     "output_type": "stream",
     "text": [
      "{'l', 'H', 'e', 'o'}\n",
      "{'l', 'H', 'e', 'o'}\n",
      "True\n"
     ]
    }
   ],
   "source": [
    "word = 'Hello'\n",
    "letters1 = set(c for c in word)\n",
    "letters2 = {c for c in word}\n",
    "print(letters1) # prints: {'l', 'o', 'H', 'e'} \n",
    "print(letters2)\n",
    "print(letters1 == letters2) # prints: True"
   ]
  }
 ],
 "metadata": {
  "kernelspec": {
   "display_name": "Python 3",
   "language": "python",
   "name": "python3"
  },
  "language_info": {
   "codemirror_mode": {
    "name": "ipython",
    "version": 3
   },
   "file_extension": ".py",
   "mimetype": "text/x-python",
   "name": "python",
   "nbconvert_exporter": "python",
   "pygments_lexer": "ipython3",
   "version": "3.6.5"
  }
 },
 "nbformat": 4,
 "nbformat_minor": 2
}
