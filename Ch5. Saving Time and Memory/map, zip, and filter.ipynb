{
 "cells": [
  {
   "cell_type": "markdown",
   "metadata": {},
   "source": [
    "# map"
   ]
  },
  {
   "cell_type": "code",
   "execution_count": 1,
   "metadata": {},
   "outputs": [
    {
     "data": {
      "text/plain": [
       "<map at 0x10d9e7e10>"
      ]
     },
     "execution_count": 1,
     "metadata": {},
     "output_type": "execute_result"
    }
   ],
   "source": [
    "map(lambda *a: a, range(3)) "
   ]
  },
  {
   "cell_type": "code",
   "execution_count": 2,
   "metadata": {},
   "outputs": [
    {
     "data": {
      "text/plain": [
       "[(0,), (1,), (2,)]"
      ]
     },
     "execution_count": 2,
     "metadata": {},
     "output_type": "execute_result"
    }
   ],
   "source": [
    "list(map(lambda *a: a, range(3)))"
   ]
  },
  {
   "cell_type": "code",
   "execution_count": 3,
   "metadata": {},
   "outputs": [
    {
     "data": {
      "text/plain": [
       "[(0, 'a'), (1, 'b'), (2, 'c')]"
      ]
     },
     "execution_count": 3,
     "metadata": {},
     "output_type": "execute_result"
    }
   ],
   "source": [
    "list(map(lambda *a: a, range(3), 'abc'))  # 2 iterables"
   ]
  },
  {
   "cell_type": "code",
   "execution_count": 4,
   "metadata": {},
   "outputs": [
    {
     "data": {
      "text/plain": [
       "[(0, 'a', 4), (1, 'b', 5), (2, 'c', 6)]"
      ]
     },
     "execution_count": 4,
     "metadata": {},
     "output_type": "execute_result"
    }
   ],
   "source": [
    "list(map(lambda *a: a, range(3), 'abc', range(4, 7)))  # 3"
   ]
  },
  {
   "cell_type": "code",
   "execution_count": 8,
   "metadata": {},
   "outputs": [
    {
     "data": {
      "text/plain": [
       "[]"
      ]
     },
     "execution_count": 8,
     "metadata": {},
     "output_type": "execute_result"
    }
   ],
   "source": [
    "list(map(lambda *a: a, (), 'abc')) # empty tuple is shortest"
   ]
  },
  {
   "cell_type": "code",
   "execution_count": 7,
   "metadata": {},
   "outputs": [
    {
     "data": {
      "text/plain": [
       "[(1, 'a'), (2, 'b')]"
      ]
     },
     "execution_count": 7,
     "metadata": {},
     "output_type": "execute_result"
    }
   ],
   "source": [
    "list(map(lambda *a: a, (1, 2), 'abc'))  # (1, 2) shortest"
   ]
  },
  {
   "cell_type": "code",
   "execution_count": 9,
   "metadata": {},
   "outputs": [
    {
     "data": {
      "text/plain": [
       "[(1, 'a'), (2, 'b'), (3, 'c')]"
      ]
     },
     "execution_count": 9,
     "metadata": {},
     "output_type": "execute_result"
    }
   ],
   "source": [
    "list(map(lambda *a: a, (1, 2, 3, 4), 'abc'))  # 'abc' shortest"
   ]
  },
  {
   "cell_type": "code",
   "execution_count": 18,
   "metadata": {},
   "outputs": [
    {
     "name": "stdout",
     "output_type": "stream",
     "text": [
      "[{'id': 2, 'credits': {'history': 8, 'physics': 9, 'chemistry': 10}}, {'id': 1, 'credits': {'math': 6, 'physics': 7, 'latin': 10}}, {'id': 0, 'credits': {'math': 9, 'physics': 6, 'history': 7}}, {'id': 3, 'credits': {'math': 5, 'physics': 5, 'geography': 7}}]\n"
     ]
    }
   ],
   "source": [
    "students = [\n",
    "    dict(id=0, credits=dict(math=9, physics=6, history=7)),\n",
    "    dict(id=1, credits=dict(math=6, physics=7, latin=10)),\n",
    "    dict(id=2, credits=dict(history=8, physics=9, chemistry=10)),\n",
    "    dict(id=3, credits=dict(math=5, physics=5, geography=7)),\n",
    "]\n",
    "\n",
    "def decorate(student):\n",
    "    # create a 2-tuple (sum of credits, student) from student dict \n",
    "    # return (sum(student['credits'].values()), student)\n",
    "    # 한편, sum of credits가 동일한 상황에서는 에러가 남 -> 2번째 soritng 기준을 제공하기 위해 3-tuple로 만드는 것 \n",
    "    return (sum(student['credits'].values()), students.index(student), student)\n",
    "    \n",
    "def undecorate(decorated_student):\n",
    "    # discard sum of credits, return original student dict\n",
    "    # return decorated_student[1]\n",
    "    return decorated_student[2]\n",
    "\n",
    "students = sorted(map(decorate, students), reverse=True) \n",
    "students = list(map(undecorate, students))\n",
    "print(students)"
   ]
  },
  {
   "cell_type": "markdown",
   "metadata": {},
   "source": [
    "# zip"
   ]
  },
  {
   "cell_type": "code",
   "execution_count": 19,
   "metadata": {},
   "outputs": [
    {
     "name": "stdout",
     "output_type": "stream",
     "text": [
      "[(22, 18), (21, 23), (29, 30), (24, 27), (18, 15), (18, 9), (24, 22)]\n",
      "[(22, 18), (21, 23), (29, 30), (24, 27), (18, 15), (18, 9), (24, 22)]\n"
     ]
    }
   ],
   "source": [
    "grades = [18, 23, 30, 27, 15, 9, 22]\n",
    "avgs = [22, 21, 29, 24, 18, 18, 24]\n",
    "\n",
    "zip_result = list(zip(avgs, grades))\n",
    "\n",
    "# equivalent to zip \n",
    "# *parameter 방식을 통해 collections을 순서대로 받아 튜플화 \n",
    "# Kotlin과 Lambda용법이 좀 다른 느낌.. 1개 Collection에 대해 Lambda를 붙이는게 아니라, Labmda뒤에 Collection을 나열함 \n",
    "equivalent_to_zip = list(map(lambda *a: a, avgs, grades))  \n",
    "\n",
    "print(zip_result)\n",
    "print(equivalent_to_zip)"
   ]
  },
  {
   "cell_type": "code",
   "execution_count": 20,
   "metadata": {},
   "outputs": [
    {
     "data": {
      "text/plain": [
       "[6, 9, 2, 9, 7]"
      ]
     },
     "execution_count": 20,
     "metadata": {},
     "output_type": "execute_result"
    }
   ],
   "source": [
    "a = [5, 9, 2, 4, 7]\n",
    "b = [3, 7, 1, 9, 2]\n",
    "c = [6, 8, 0, 5, 3]\n",
    "maxs = map(lambda n: max(*n), zip(a, b, c))\n",
    "list(maxs)\n",
    "# 위 용법은 은근히 많이 쓰일 것 같다. \n",
    "# 복수개의 collection에서 index기준으로 특정 조건으로 비교해서 가장 적합한 것만 뽑아 collection만드는 것. "
   ]
  },
  {
   "cell_type": "markdown",
   "metadata": {},
   "source": [
    "# filter"
   ]
  },
  {
   "cell_type": "code",
   "execution_count": 22,
   "metadata": {},
   "outputs": [
    {
     "name": "stdout",
     "output_type": "stream",
     "text": [
      "True\n",
      "[2, 5, 8, 1]\n",
      "[2, 5, 8, 1]\n",
      "[5, 8]\n"
     ]
    }
   ],
   "source": [
    "test = [2, 5, 8, 0, 0, 1, 0]\n",
    "\n",
    "# predicate lambda가 None이면, \n",
    "# { it -> it } 으로 처리되고, \n",
    "# 이건 곧 \"bool(it) == True\" 로 각 원소 체크하여 True인것만 뽑아내는 것. \n",
    "print(list(filter(None, test)))\n",
    "print(list(filter(lambda x: x, test)))  # equivalent to previous one\n",
    "\n",
    "print(list(filter(lambda x: x > 4, test)))  # keep only items > 4"
   ]
  }
 ],
 "metadata": {
  "kernelspec": {
   "display_name": "Python 3",
   "language": "python",
   "name": "python3"
  },
  "language_info": {
   "codemirror_mode": {
    "name": "ipython",
    "version": 3
   },
   "file_extension": ".py",
   "mimetype": "text/x-python",
   "name": "python",
   "nbconvert_exporter": "python",
   "pygments_lexer": "ipython3",
   "version": "3.6.5"
  }
 },
 "nbformat": 4,
 "nbformat_minor": 2
}
