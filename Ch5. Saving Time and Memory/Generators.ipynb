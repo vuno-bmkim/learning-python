{
 "cells": [
  {
   "cell_type": "markdown",
   "metadata": {},
   "source": [
    "# Generator functions"
   ]
  },
  {
   "cell_type": "code",
   "execution_count": 8,
   "metadata": {},
   "outputs": [
    {
     "name": "stdout",
     "output_type": "stream",
     "text": [
      "[0, 1, 4, 9, 16, 25, 36, 49, 64, 81]\n",
      "[0, 1, 4, 9, 16, 25, 36, 49, 64, 81]\n",
      "<generator object get_squares_gen at 0x104945e60>\n",
      "0\n",
      "1\n",
      "4\n",
      "9\n"
     ]
    }
   ],
   "source": [
    "def get_squares(n): # classic function approach \n",
    "    return [x ** 2 for x in range(n)]\n",
    "print(get_squares(10))\n",
    "\n",
    "\n",
    "# 아래 함수는 위 함수와 유사해보이지만, \n",
    "# yield를 사용하여 vertical evaluation으로 진행된다. \n",
    "def get_squares_gen(n):  # generator approach\n",
    "    for x in range(n):\n",
    "        yield x ** 2 # we yield, we don't return \n",
    "print(list(get_squares_gen(10)))\n",
    "\n",
    "\n",
    "squares = get_squares_gen(4) # this creates a generator object \n",
    "print(squares) # <generator object get_squares_gen at 0x7f158...> print(next(squares)) # prints: 0\n",
    "print(next(squares)) # prints: 1\n",
    "print(next(squares)) # prints: 4\n",
    "print(next(squares)) # prints: 9\n",
    "# the following raises StopIteration, the generator is exhausted, \n",
    "# any further call to next will keep raising StopIteration \n",
    "print(next(squares))\n",
    "#print(next(squares)) # stop Iteration 에러 뜸 "
   ]
  },
  {
   "cell_type": "code",
   "execution_count": 12,
   "metadata": {},
   "outputs": [
    {
     "name": "stdout",
     "output_type": "stream",
     "text": [
      "2\n",
      "10\n",
      "50\n",
      "250\n",
      "1250\n",
      "6250\n",
      "31250\n"
     ]
    }
   ],
   "source": [
    "# aq^k를 k=0부터 무한히 증가시켜나가다 값이 100,000 이 넘어가면 종료됨 \n",
    "def geometric_progression(a, q): \n",
    "    k= 0\n",
    "    while True:\n",
    "        result = a * q**k\n",
    "        if result <= 100000:\n",
    "            yield result\n",
    "        else: \n",
    "            return\n",
    "        k += 1\n",
    "        \n",
    "for n in geometric_progression(2, 5):\n",
    "    print(n)"
   ]
  },
  {
   "cell_type": "markdown",
   "metadata": {},
   "source": [
    "# Going beyond next"
   ]
  },
  {
   "cell_type": "code",
   "execution_count": 13,
   "metadata": {},
   "outputs": [
    {
     "name": "stdout",
     "output_type": "stream",
     "text": [
      "0\n",
      "1\n",
      "4\n"
     ]
    },
    {
     "ename": "StopIteration",
     "evalue": "",
     "output_type": "error",
     "traceback": [
      "\u001b[0;31m---------------------------------------------------------------------------\u001b[0m",
      "\u001b[0;31mStopIteration\u001b[0m                             Traceback (most recent call last)",
      "\u001b[0;32m<ipython-input-13-75613a040316>\u001b[0m in \u001b[0;36m<module>\u001b[0;34m\u001b[0m\n\u001b[1;32m      9\u001b[0m \u001b[0;31m# the following raises StopIteration, the generator is exhausted,\u001b[0m\u001b[0;34m\u001b[0m\u001b[0;34m\u001b[0m\u001b[0m\n\u001b[1;32m     10\u001b[0m \u001b[0;31m# any further call to next will keep raising StopIteration\u001b[0m\u001b[0;34m\u001b[0m\u001b[0;34m\u001b[0m\u001b[0m\n\u001b[0;32m---> 11\u001b[0;31m \u001b[0mprint\u001b[0m\u001b[0;34m(\u001b[0m\u001b[0msquares\u001b[0m\u001b[0;34m.\u001b[0m\u001b[0m__next__\u001b[0m\u001b[0;34m(\u001b[0m\u001b[0;34m)\u001b[0m\u001b[0;34m)\u001b[0m\u001b[0;34m\u001b[0m\u001b[0m\n\u001b[0m",
      "\u001b[0;31mStopIteration\u001b[0m: "
     ]
    }
   ],
   "source": [
    "def get_squares_gen(n):\n",
    "    for x in range(n):\n",
    "        yield x ** 2\n",
    "\n",
    "squares = get_squares_gen(3)\n",
    "print(squares.__next__()) # prints: 0\n",
    "print(squares.__next__()) # prints: 1\n",
    "print(squares.__next__()) # prints: 4\n",
    "# the following raises StopIteration, the generator is exhausted, \n",
    "# any further call to next will keep raising StopIteration \n",
    "print(squares.__next__())"
   ]
  },
  {
   "cell_type": "code",
   "execution_count": 15,
   "metadata": {},
   "outputs": [
    {
     "name": "stdout",
     "output_type": "stream",
     "text": [
      "0\n",
      "1\n",
      "2\n"
     ]
    }
   ],
   "source": [
    "# infinite generator를 만들고 next로 하나씩 취하는 방식 가능\n",
    "# 어차피 yield는 연산 하기 전까지는 실제 연산 수행하지 않으므로 \n",
    "\n",
    "def counter(start=0):\n",
    "    n = start\n",
    "    while True: \n",
    "        yield n\n",
    "        n += 1\n",
    "\n",
    "c = counter()\n",
    "print(next(c))  # prints: 0\n",
    "print(next(c))  # prints: 1\n",
    "print(next(c))  # prints: 2"
   ]
  },
  {
   "cell_type": "code",
   "execution_count": 17,
   "metadata": {},
   "outputs": [
    {
     "name": "stdout",
     "output_type": "stream",
     "text": [
      "0\n",
      "1\n"
     ]
    },
    {
     "ename": "StopIteration",
     "evalue": "",
     "output_type": "error",
     "traceback": [
      "\u001b[0;31m---------------------------------------------------------------------------\u001b[0m",
      "\u001b[0;31mStopIteration\u001b[0m                             Traceback (most recent call last)",
      "\u001b[0;32m<ipython-input-17-d187113adac8>\u001b[0m in \u001b[0;36m<module>\u001b[0;34m\u001b[0m\n\u001b[1;32m     13\u001b[0m \u001b[0mprint\u001b[0m\u001b[0;34m(\u001b[0m\u001b[0mnext\u001b[0m\u001b[0;34m(\u001b[0m\u001b[0mc\u001b[0m\u001b[0;34m)\u001b[0m\u001b[0;34m)\u001b[0m \u001b[0;31m# prints: 1\u001b[0m\u001b[0;34m\u001b[0m\u001b[0m\n\u001b[1;32m     14\u001b[0m \u001b[0mstop\u001b[0m \u001b[0;34m=\u001b[0m \u001b[0;32mTrue\u001b[0m\u001b[0;34m\u001b[0m\u001b[0m\n\u001b[0;32m---> 15\u001b[0;31m \u001b[0mprint\u001b[0m\u001b[0;34m(\u001b[0m\u001b[0mnext\u001b[0m\u001b[0;34m(\u001b[0m\u001b[0mc\u001b[0m\u001b[0;34m)\u001b[0m\u001b[0;34m)\u001b[0m \u001b[0;31m# raises StopIteration\u001b[0m\u001b[0;34m\u001b[0m\u001b[0m\n\u001b[0m",
      "\u001b[0;31mStopIteration\u001b[0m: "
     ]
    }
   ],
   "source": [
    "# 연산이 그 순간 수행됨을 알 수 있는 예시 \n",
    "# next 중간에 global scope stop name 값을 변경해주니 next 수행시 더이상 연산 안되어 raises stopIteration 에러 뜸 \n",
    "\n",
    "stop = False\n",
    "def counter(start=0):\n",
    "    n = start\n",
    "    while not stop: \n",
    "        yield n\n",
    "        n += 1\n",
    "\n",
    "c = counter()\n",
    "print(next(c)) # prints: 0 \n",
    "print(next(c)) # prints: 1\n",
    "stop = True\n",
    "print(next(c)) # raises StopIteration"
   ]
  },
  {
   "cell_type": "code",
   "execution_count": 19,
   "metadata": {},
   "outputs": [
    {
     "name": "stdout",
     "output_type": "stream",
     "text": [
      "0\n",
      "<class 'str'> Wow!\n",
      "1\n",
      "<class 'NoneType'> None\n",
      "2\n",
      "<class 'str'> Q\n"
     ]
    },
    {
     "ename": "StopIteration",
     "evalue": "",
     "output_type": "error",
     "traceback": [
      "\u001b[0;31m---------------------------------------------------------------------------\u001b[0m",
      "\u001b[0;31mStopIteration\u001b[0m                             Traceback (most recent call last)",
      "\u001b[0;32m<ipython-input-19-b78f28d92b17>\u001b[0m in \u001b[0;36m<module>\u001b[0;34m\u001b[0m\n\u001b[1;32m     12\u001b[0m \u001b[0mprint\u001b[0m\u001b[0;34m(\u001b[0m\u001b[0mc\u001b[0m\u001b[0;34m.\u001b[0m\u001b[0msend\u001b[0m\u001b[0;34m(\u001b[0m\u001b[0;34m'Wow!'\u001b[0m\u001b[0;34m)\u001b[0m\u001b[0;34m)\u001b[0m \u001b[0;31m# D\u001b[0m\u001b[0;34m\u001b[0m\u001b[0m\n\u001b[1;32m     13\u001b[0m \u001b[0mprint\u001b[0m\u001b[0;34m(\u001b[0m\u001b[0mnext\u001b[0m\u001b[0;34m(\u001b[0m\u001b[0mc\u001b[0m\u001b[0;34m)\u001b[0m\u001b[0;34m)\u001b[0m \u001b[0;31m# E\u001b[0m\u001b[0;34m\u001b[0m\u001b[0m\n\u001b[0;32m---> 14\u001b[0;31m \u001b[0mprint\u001b[0m\u001b[0;34m(\u001b[0m\u001b[0mc\u001b[0m\u001b[0;34m.\u001b[0m\u001b[0msend\u001b[0m\u001b[0;34m(\u001b[0m\u001b[0;34m'Q'\u001b[0m\u001b[0;34m)\u001b[0m\u001b[0;34m)\u001b[0m \u001b[0;31m# F\u001b[0m\u001b[0;34m\u001b[0m\u001b[0m\n\u001b[0m",
      "\u001b[0;31mStopIteration\u001b[0m: "
     ]
    }
   ],
   "source": [
    "def counter(start=0):\n",
    "    n = start\n",
    "    while True:\n",
    "        result = yield n # A \n",
    "        print(type(result), result) # B \n",
    "        if result == 'Q':\n",
    "            break\n",
    "        n += 1\n",
    "        \n",
    "c = counter() \n",
    "print(next(c)) # C \n",
    "print(c.send('Wow!')) # D \n",
    "print(next(c)) # E \n",
    "print(c.send('Q')) # F"
   ]
  },
  {
   "cell_type": "markdown",
   "metadata": {},
   "source": [
    "# The yield from expression "
   ]
  },
  {
   "cell_type": "code",
   "execution_count": 22,
   "metadata": {},
   "outputs": [
    {
     "name": "stdout",
     "output_type": "stream",
     "text": [
      "4\n",
      "9\n",
      "16\n",
      "4\n",
      "9\n",
      "16\n"
     ]
    }
   ],
   "source": [
    "def print_squares(start, end):\n",
    "    for n in range(start, end):\n",
    "        yield n ** 2\n",
    "\n",
    "for n in print_squares(2, 5):\n",
    "    print(n)\n",
    "    \n",
    "    \n",
    "# yield from을 써서 위 코드 보다 간결성을 개선한다. \n",
    "def print_squares(start, end):\n",
    "    yield from (n ** 2 for n in range(start, end))\n",
    "\n",
    "for n in print_squares(2, 5):\n",
    "    print(n)"
   ]
  },
  {
   "cell_type": "markdown",
   "metadata": {},
   "source": [
    "# Generator expressions"
   ]
  },
  {
   "cell_type": "code",
   "execution_count": 26,
   "metadata": {},
   "outputs": [
    {
     "name": "stdout",
     "output_type": "stream",
     "text": [
      "[0, 1, 8, 27, 64, 125, 216, 343, 512, 729]\n",
      "<generator object <genexpr> at 0x1065cef68>\n",
      "[0, 1, 8, 27, 64, 125, 216, 343, 512, 729]\n",
      "[]\n"
     ]
    }
   ],
   "source": [
    "cubes = [k**3 for k in range(10)] \n",
    "print(cubes)\n",
    "type(cubes)\n",
    "\n",
    "cubes_gen = (k**3 for k in range(10))  # create as generator\n",
    "print(cubes_gen)\n",
    "type(cubes_gen)\n",
    "\n",
    "print(list(cubes_gen))\n",
    "# list()를 써서 가지고 있는 모든 것을 리스트로 내보내면, generator에 남는 것이 없게됨 \n",
    "print(list(cubes_gen))"
   ]
  },
  {
   "cell_type": "code",
   "execution_count": 32,
   "metadata": {},
   "outputs": [
    {
     "name": "stdout",
     "output_type": "stream",
     "text": [
      "10000\n",
      "10000\n"
     ]
    }
   ],
   "source": [
    "# map \n",
    "def adder(*n):\n",
    "    return sum(n)\n",
    "\n",
    "# [0 .. 99] 와 [1 .. 100] (range 뒤쪽 숫자는 excluded 이므로)을 합쳐서 더하는 것 -> 100 (100+0, 1+99 ... 99+1) * 100 = 10,000\n",
    "s1 = sum(map(lambda n: adder(*n), zip(range(100), range(1, 101))))\n",
    "s2 = sum(adder(*n) for n in zip(range(100), range(1, 101)))\n",
    "print(s1)\n",
    "print(s2)"
   ]
  },
  {
   "cell_type": "code",
   "execution_count": 33,
   "metadata": {},
   "outputs": [
    {
     "name": "stdout",
     "output_type": "stream",
     "text": [
      "<filter object at 0x10688acf8>\n",
      "<generator object <genexpr> at 0x102da0c50>\n"
     ]
    }
   ],
   "source": [
    "# filter\n",
    "cubes = [x**3 for x in range(10)]\n",
    "odd_cubes1 = filter(lambda cube: cube % 2, cubes)\n",
    "odd_cubes2 = (cube for cube in cubes if cube % 2)\n",
    "print(odd_cubes1)\n",
    "print(odd_cubes2)"
   ]
  },
  {
   "cell_type": "code",
   "execution_count": 38,
   "metadata": {},
   "outputs": [
    {
     "name": "stdout",
     "output_type": "stream",
     "text": [
      "<map object at 0x1068b9fd0>\n",
      "<generator object <genexpr> at 0x102da0db0>\n"
     ]
    }
   ],
   "source": [
    "# map & filter \n",
    "N = 20\n",
    "cubes1 = map(\n",
    "    lambda n: (n, n**3),\n",
    "    filter(lambda n: n % 3 == 0 or n % 5 == 0, range(N))\n",
    ")\n",
    "cubes2 = (\n",
    "    (n, n**3) for n in range(N) if n % 3 == 0 or n % 5 == 0)\n",
    "\n",
    "print(cubes1)\n",
    "print(cubes2)"
   ]
  },
  {
   "cell_type": "code",
   "execution_count": null,
   "metadata": {},
   "outputs": [],
   "source": []
  }
 ],
 "metadata": {
  "kernelspec": {
   "display_name": "Python 3",
   "language": "python",
   "name": "python3"
  },
  "language_info": {
   "codemirror_mode": {
    "name": "ipython",
    "version": 3
   },
   "file_extension": ".py",
   "mimetype": "text/x-python",
   "name": "python",
   "nbconvert_exporter": "python",
   "pygments_lexer": "ipython3",
   "version": "3.6.5"
  }
 },
 "nbformat": 4,
 "nbformat_minor": 2
}
