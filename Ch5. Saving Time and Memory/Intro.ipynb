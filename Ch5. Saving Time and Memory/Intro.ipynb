{
 "cells": [
  {
   "cell_type": "code",
   "execution_count": 14,
   "metadata": {},
   "outputs": [
    {
     "name": "stdout",
     "output_type": "stream",
     "text": [
      "square1 0.0021457672119140625\n",
      "square2 0.00095367431640625\n",
      "square1 0.0021457672119140625\n",
      "square2 0.00095367431640625\n"
     ]
    },
    {
     "data": {
      "text/plain": [
       "10000000000000000000000"
      ]
     },
     "execution_count": 14,
     "metadata": {},
     "output_type": "execute_result"
    }
   ],
   "source": [
    "import time \n",
    "\n",
    "def timeit(method):\n",
    "    def timed(*args, **kw):\n",
    "        ts = time.time()\n",
    "        result = method(*args, **kw)\n",
    "        te = time.time()\n",
    "        if 'log_time' in kw:\n",
    "            name = kw.get('log_name', method.__name__.upper())\n",
    "            kw['log_time'][name] = int((te - ts) * 1000)\n",
    "        else:\n",
    "            print (method.__name__, (te - ts) * 1000)\n",
    "        return result\n",
    "    return timed\n",
    "\n",
    "@timeit\n",
    "def square1(n):\n",
    "    return n ** 2\n",
    "\n",
    "@timeit\n",
    "def square2(n):\n",
    "    return n * n\n",
    "\n",
    "square1(100)\n",
    "square2(100)\n",
    "\n",
    "square1(100000000000)\n",
    "square2(100000000000)\n",
    "\n",
    "# square2 가 squre1보다 빠르다! "
   ]
  },
  {
   "cell_type": "code",
   "execution_count": null,
   "metadata": {},
   "outputs": [],
   "source": []
  }
 ],
 "metadata": {
  "kernelspec": {
   "display_name": "Python 3",
   "language": "python",
   "name": "python3"
  },
  "language_info": {
   "codemirror_mode": {
    "name": "ipython",
    "version": 3
   },
   "file_extension": ".py",
   "mimetype": "text/x-python",
   "name": "python",
   "nbconvert_exporter": "python",
   "pygments_lexer": "ipython3",
   "version": "3.6.5"
  }
 },
 "nbformat": 4,
 "nbformat_minor": 2
}
