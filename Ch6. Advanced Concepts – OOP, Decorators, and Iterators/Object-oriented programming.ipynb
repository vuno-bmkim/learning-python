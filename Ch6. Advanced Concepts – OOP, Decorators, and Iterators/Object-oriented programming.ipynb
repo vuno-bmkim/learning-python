{
 "cells": [
  {
   "cell_type": "markdown",
   "metadata": {},
   "source": [
    "# The simplest Python class"
   ]
  },
  {
   "cell_type": "code",
   "execution_count": 1,
   "metadata": {},
   "outputs": [
    {
     "name": "stdout",
     "output_type": "stream",
     "text": [
      "<class 'type'>\n",
      "<class '__main__.Simplest'>\n",
      "True\n"
     ]
    }
   ],
   "source": [
    "# Simplest와 같이 pass를 통해 어떠한 custom attribute와 methods도 없는 class는 'type' class의 instance가 된다. \n",
    "# 오... class인데 그 class 역시 'type' class라는 보다 상위 클래스의 instance이다. (metaclasses, metaprogramming 컨셉)\n",
    "\n",
    "class Simplest():  # when empty, the braces are optional\n",
    "    pass\n",
    "\n",
    "print(type(Simplest))  # what type is this object?\n",
    "\n",
    "simp = Simplest() # we create an instance of Simplest: simp \n",
    "print(type(simp)) # what type is simp?\n",
    "# is simp an instance of Simplest?\n",
    "print(type(simp) == Simplest) # There's a better way for this"
   ]
  },
  {
   "cell_type": "markdown",
   "metadata": {},
   "source": [
    "# Class and object namespaces"
   ]
  },
  {
   "cell_type": "code",
   "execution_count": 13,
   "metadata": {},
   "outputs": [
    {
     "name": "stdout",
     "output_type": "stream",
     "text": [
      "Human\n",
      "True\n",
      "Human\n",
      "True\n",
      "False\n",
      "False\n",
      "False\n",
      "True\n",
      "False\n",
      "Darth Vader\n"
     ]
    }
   ],
   "source": [
    "class Person():\n",
    "    species = 'Human'\n",
    "\n",
    "# object를 생성하지 않아도 Class의 attribute에 접근할 수 있고, \n",
    "# 또 동적으로 Class의 attribute를 추가/수정할 수 도 있다. 이렇게 추가/수정 된게 \n",
    "print(Person.species)  # Human\n",
    "Person.alive = True  # Added dynamically!\n",
    "print(Person.alive)  # True\n",
    "\n",
    "man = Person()\n",
    "woman = Person()\n",
    "print(man.species) # Human (inherited) \n",
    "print(man.alive) # True (inherited)\n",
    "\n",
    "# class의 attribute를 수정한 경우 모든 object의 attribute가 수정된다. \n",
    "Person.alive = False\n",
    "print(man.alive) # False (inherited)\n",
    "print(woman.alive)\n",
    "\n",
    "# object의 attribute를 수정한 경우 해당 object만 변경되고, Class 것과 해당 class로 만든 다른 object들은 변경되지 않는다. \n",
    "man.alive = True\n",
    "print(Person.alive)\n",
    "print(man.alive)\n",
    "print(woman.alive)\n",
    "\n",
    "man.name = 'Darth'\n",
    "man.surname = 'Vader'\n",
    "print(man.name, man.surname) # Darth Vader\n",
    "# object에서 attribute를 추가한 경우 , 해당 object만 추가되고, Class와 해당 Class로 만든 다른 object에는 추가되지 않는다. \n",
    "# print(Person.name, Person.surname) # AttributeError\n",
    "# print(woman.name, woman.surname) # AttributeError"
   ]
  },
  {
   "cell_type": "markdown",
   "metadata": {},
   "source": [
    "# Attribute shadowing"
   ]
  },
  {
   "cell_type": "code",
   "execution_count": 25,
   "metadata": {},
   "outputs": [
    {
     "name": "stdout",
     "output_type": "stream",
     "text": [
      "10\n",
      "7\n",
      "12\n",
      "10\n",
      "10\n",
      "3\n"
     ]
    }
   ],
   "source": [
    "class Point():\n",
    "    x = 10 \n",
    "    y = 7\n",
    "\n",
    "p = Point()\n",
    "print(p.x)  # 10 (from class attribute)\n",
    "print(p.y)  # 7 (from class attribute)\n",
    "\n",
    "p.x = 12  # p gets its own 'x' attribute\n",
    "print(p.x)  # 12 (now found on the instance)\n",
    "print(Point.x)  # 10 (class attribute still the same)\n",
    "\n",
    "del p.x  # we delete instance attribute\n",
    "print(p.x) # 10 (now search has to go again to find class attr)\n",
    "\n",
    "p.z = 3  # let's make it a 3D point\n",
    "print(p.z)  # 3\n",
    "\n",
    "#print(Point.z) # AttributeError: type object 'Point' has no attribute 'z'\n",
    "\n",
    "del Point.x\n",
    "#print(p.x) # AttributeError: 'Point' object has no attribute 'x'\n",
    "#print(Point.x) # AttributeError: type object 'Point' has no attribute 'x'"
   ]
  },
  {
   "cell_type": "markdown",
   "metadata": {},
   "source": [
    "# I, me, and myself - using the self variable"
   ]
  },
  {
   "cell_type": "code",
   "execution_count": 31,
   "metadata": {},
   "outputs": [
    {
     "name": "stdout",
     "output_type": "stream",
     "text": [
      "64\n",
      "64\n",
      "100\n",
      "100\n",
      "64\n"
     ]
    }
   ],
   "source": [
    "class Square():\n",
    "    side = 8\n",
    "    # 인스턴스 메소드\n",
    "    def area(self): # self is a reference to an instance \n",
    "        return self.side ** 2\n",
    "\n",
    "sq = Square()\n",
    "print(sq.area()) # 64 (side is found on the class) \n",
    "print(Square.area(sq)) # 64 (equivalent to sq.area())\n",
    "\n",
    "sq.side = 10\n",
    "print(sq.area())  # 100 (side is found on the instance)\n",
    "print(Square.area(sq))\n",
    "\n",
    "# 위 메소드 정의시에 side를 self.side로 호출했으므로, \n",
    "# instance attribute 기준으로 계산한 것이다. \n",
    "# 즉 위에 sq.side = 10으로 변경한 것은 instance attribute를 변경한 것이므로 \n",
    "# Class attribute는 변경되지 않았다. \n",
    "print(Square.side ** 2)"
   ]
  },
  {
   "cell_type": "code",
   "execution_count": 28,
   "metadata": {},
   "outputs": [
    {
     "name": "stdout",
     "output_type": "stream",
     "text": [
      "110.0\n",
      "110.0\n"
     ]
    }
   ],
   "source": [
    "class Price():\n",
    "    def final_price(self, vat, discount=0):\n",
    "        \"\"\"Returns price after applying vat and fixed discount.\"\"\"\n",
    "        return (self.net_price * (100 + vat) / 100) - discount\n",
    "\n",
    "p1 = Price()\n",
    "p1.net_price = 100\n",
    "print(Price.final_price(p1, 20, 10)) # 110 (100 * 1.2 - 10) \n",
    "print(p1.final_price(20, 10)) # equivalent"
   ]
  },
  {
   "cell_type": "markdown",
   "metadata": {},
   "source": [
    "# Initializing an instance"
   ]
  },
  {
   "cell_type": "code",
   "execution_count": 32,
   "metadata": {},
   "outputs": [
    {
     "name": "stdout",
     "output_type": "stream",
     "text": [
      "10 4\n",
      "40\n",
      "21\n"
     ]
    }
   ],
   "source": [
    "class Rectangle():\n",
    "    # 그렇다면,, Class attribute를 정의하는 건 어떤 경우에 필요할까? -> 바로 다음 블록 코드에 나옴 \n",
    "    \n",
    "    def __init__(self, sideA, sideB):\n",
    "        # 동작 원리는 해당 instnace가 생성된 직후에 이 함수가 호출되는데, \n",
    "        # 그 때 instance attribute를 추가하고 값을 할당하는 것이다. \n",
    "        # 즉 class attribute는 없다. \n",
    "        # 다만 해당 class가 객체화될때 무조건 sideA와 sideB라는 instance attribute가 공통적으로 추가되는 것.\n",
    "        self.sideA = sideA\n",
    "        self.sideB = sideB\n",
    "    \n",
    "    def area(self):\n",
    "        return self.sideA * self.sideB\n",
    "\n",
    "r1 = Rectangle(10, 4)\n",
    "print(r1.sideA, r1.sideB)  # 10 4\n",
    "print(r1.area())  # 40\n",
    "\n",
    "r2 = Rectangle(7, 3)\n",
    "print(r2.area())  # 21"
   ]
  },
  {
   "cell_type": "markdown",
   "metadata": {},
   "source": [
    "# Inheritance and composition"
   ]
  },
  {
   "cell_type": "code",
   "execution_count": 34,
   "metadata": {},
   "outputs": [
    {
     "name": "stdout",
     "output_type": "stream",
     "text": [
      "Starting engine Engine for car Car... Wroom, wroom!\n",
      "Starting engine V8Engine for car RaceCar... Wroom, wroom!\n",
      "Starting engine ElectricEngine for car CityCar... Wroom, wroom!\n",
      "Starting engine V8Engine for car F1Car... Wroom, wroom!\n"
     ]
    }
   ],
   "source": [
    "class Engine():\n",
    "    def start(self):\n",
    "        pass\n",
    "    def stop(self):\n",
    "        pass\n",
    "\n",
    "# Inheritance (상속)\n",
    "# ElectricEngine \"is a\" Engine 관계 \n",
    "# ElectricEngine은 Engine의 child(derived)이다. (Engine은 ElectricEngine의 parent(base)다.)\n",
    "class ElectricEngine(Engine): # Is-A Engine \n",
    "    pass\n",
    "\n",
    "class V8Engine(Engine): # Is-A Engine \n",
    "    pass\n",
    "\n",
    "\n",
    "class Car():\n",
    "    # class attribute를 정의해두고, __init__에서 이를 instance attribute에 할당한다. \n",
    "    # 즉, Class로 instance들을 생성함에 있어서, \n",
    "    # instance별로 달라야할 attribute는 instance attribute로 처리하고 \n",
    "    # 해당 class의 instance들은 모두 공통적인 값을 가져야할 attribute는 아래와 같은 방식으로 처리하는 것 \n",
    "    # 이러한 경우를 Composition이라 한다. \n",
    "    # Car \"has a\"  Engine 관계 (모든 Car instance는 동일한 종류의 Engine을 가진다.)\n",
    "    engine_cls = Engine\n",
    "\n",
    "    def __init__(self):\n",
    "        self.engine = self.engine_cls()  # Has-A Engine\n",
    "\n",
    "    def start(self):\n",
    "        print(\n",
    "            'Starting engine {0} for car {1}... Wroom, wroom!' .format(\n",
    "                self.engine.__class__.__name__, \n",
    "                self.__class__.__name__)\n",
    "           )\n",
    "        self.engine.start()\n",
    "    \n",
    "    def stop(self):\n",
    "        self.engine.stop()\n",
    "\n",
    "\n",
    "class RaceCar(Car): # Is-A Car \n",
    "    engine_cls = V8Engine\n",
    "\n",
    "class CityCar(Car): # Is-A Car \n",
    "    engine_cls = ElectricEngine\n",
    "\n",
    "class F1Car(RaceCar): # Is-A RaceCar and also Is-A Car \n",
    "    engine_cls = V8Engine\n",
    "\n",
    "car = Car()\n",
    "racecar = RaceCar()\n",
    "citycar = CityCar()\n",
    "f1car = F1Car()\n",
    "cars = [car, racecar, citycar, f1car]\n",
    "\n",
    "for car in cars:\n",
    "    car.start()"
   ]
  },
  {
   "cell_type": "code",
   "execution_count": 41,
   "metadata": {},
   "outputs": [
    {
     "name": "stdout",
     "output_type": "stream",
     "text": [
      "car is a Car\n",
      "car is not a RaceCar\n",
      "car is not a F1Car\n",
      "racecar is a Car\n",
      "racecar is a RaceCar\n",
      "racecar is not a F1Car\n",
      "f1car is a Car\n",
      "f1car is a RaceCar\n",
      "f1car is a F1Car\n",
      "==============================\n",
      "Car is a subclass of Car\n",
      "Car is not a subclass of RaceCar\n",
      "Car is not a subclass of F1Car\n",
      "RaceCar is a subclass of Car\n",
      "RaceCar is a subclass of RaceCar\n",
      "RaceCar is not a subclass of F1Car\n",
      "F1Car is a subclass of Car\n",
      "F1Car is a subclass of RaceCar\n",
      "F1Car is a subclass of F1Car\n"
     ]
    }
   ],
   "source": [
    "car = Car()\n",
    "racecar = RaceCar()\n",
    "f1car = F1Car()\n",
    "cars = [(car, 'car'), (racecar, 'racecar'), (f1car, 'f1car')]\n",
    "car_classes = [Car, RaceCar, F1Car]\n",
    "\n",
    "for car, car_name in cars:\n",
    "    for class_ in car_classes:\n",
    "        # isinstance(object, class) : 해당 object가 해당 class의 instance인지 체크 \n",
    "        belongs = isinstance(car, class_)\n",
    "        # 아래 처럼 type으로 체크할 경우 상속관계는 고려되지 않고, 그냥 딱 타입만 비교해서 체크해버린다. (다른 결과가 나옴)\n",
    "        # belongs = (type(car) == class_)\n",
    "        msg = 'is a' if belongs else 'is not a'\n",
    "        print(car_name, msg, class_.__name__)\n",
    "        \n",
    "print(\"=\" * 30)\n",
    "        \n",
    "for class1 in car_classes:\n",
    "    for class2 in car_classes:\n",
    "        # issubclass(classA, classB) : classA가 classB를 상속한 child인지 체크 \n",
    "        is_subclass = issubclass(class1, class2)\n",
    "        msg = '{0} a subclass of'.format(\n",
    "            'is' if is_subclass else 'is not')\n",
    "        print(class1.__name__, msg, class2.__name__)"
   ]
  },
  {
   "cell_type": "markdown",
   "metadata": {},
   "source": [
    "# Base class : object"
   ]
  },
  {
   "cell_type": "code",
   "execution_count": 46,
   "metadata": {},
   "outputs": [
    {
     "name": "stdout",
     "output_type": "stream",
     "text": [
      "object is a subclass of object\n",
      "int is a subclass of object\n",
      "float is a subclass of object\n",
      "str is a subclass of object\n",
      "bool is a subclass of object\n",
      "Car is a subclass of object\n"
     ]
    }
   ],
   "source": [
    "# object는 모든 클래스의 parent/base다. \n",
    "car_classes = [object, int, float, str, bool, Car]\n",
    "\n",
    "for class1 in car_classes:\n",
    "    class2 = object\n",
    "    is_subclass = issubclass(class1, class2)\n",
    "    msg = '{0} a subclass of'.format(\n",
    "        'is' if is_subclass else 'is not')\n",
    "    print(class1.__name__, msg, class2.__name__)"
   ]
  },
  {
   "cell_type": "code",
   "execution_count": 49,
   "metadata": {},
   "outputs": [],
   "source": [
    "# 아래 3개는 모두 동일하다. \n",
    "class A:\n",
    "    pass\n",
    "\n",
    "class A():\n",
    "    pass\n",
    "\n",
    "class A(object):\n",
    "    pass"
   ]
  },
  {
   "cell_type": "code",
   "execution_count": 50,
   "metadata": {},
   "outputs": [],
   "source": [
    "class Book:\n",
    "    def __init__(self, title, publisher, pages):\n",
    "        self.title = title\n",
    "        self.publisher = publisher\n",
    "        self.pages = pages\n",
    "\n",
    "# 불필요하게 코드 중복\n",
    "class Ebook(Book):\n",
    "    def __init__(self, title, publisher, pages, format_):\n",
    "        self.title = title \n",
    "        self.publisher = publisher \n",
    "        self.pages = pages \n",
    "        self.format_ = format_\n",
    "        \n",
    "# __init__을 써서 중복 제거   \n",
    "class Ebook(Book):\n",
    "    def __init__(self, title, publisher, pages, format_):\n",
    "        Book.__init__(self, title, publisher, pages)\n",
    "        self.format_ = format_\n",
    "        \n",
    "# super()을 써서 parent의 __init__을 호출한다는 의미로 변경 \n",
    "# Ebook의 parent가 Book에서 다른 것으로 변경되어도 대응됨. \n",
    "class Ebook(Book):\n",
    "    def __init__(self, title, publisher, pages, format_):\n",
    "        super().__init__(title, publisher, pages)\n",
    "        # Another way to do the same thing is:\n",
    "        # super(Ebook, self).__init__(title, publisher, pages) \n",
    "        self.format_ = format_"
   ]
  },
  {
   "cell_type": "markdown",
   "metadata": {},
   "source": [
    "# Multiple inheritance"
   ]
  },
  {
   "cell_type": "code",
   "execution_count": 55,
   "metadata": {},
   "outputs": [
    {
     "name": "stdout",
     "output_type": "stream",
     "text": [
      "259.8076211353316\n",
      "RegularHexagon\n",
      "Plotting at (75, 77), ratio 0.8.\n",
      "144\n",
      "Square\n",
      "Plotting at (74, 75), ratio 0.93.\n",
      "(<class '__main__.Square'>, <class '__main__.RegularPolygon'>, <class '__main__.Polygon'>, <class '__main__.Shape'>, <class '__main__.Plotter'>, <class 'object'>)\n",
      "(<class '__main__.Square'>, <class '__main__.RegularPolygon'>, <class '__main__.Polygon'>, <class '__main__.Shape'>, <class '__main__.Plotter'>, <class 'object'>)\n",
      "[<class '__main__.Square'>, <class '__main__.RegularPolygon'>, <class '__main__.Polygon'>, <class '__main__.Shape'>, <class '__main__.Plotter'>, <class 'object'>]\n"
     ]
    }
   ],
   "source": [
    "# Python에서 인터페이스 정의하는 방식 중 1가지 \n",
    "# Class내부에 함수를 raise NotImplementedError로 정의해두는 것 \n",
    "# 다른 방식은 뭐일지?\n",
    "class Shape:\n",
    "    geometric_type = 'Generic Shape'\n",
    "    \n",
    "    def area(self): # This acts as placeholder for the interface\n",
    "        raise NotImplementedError\n",
    "    \n",
    "    # 한편 아래 함수는 모든 child가 동일한 기능을 수행하므로 구현해둠 \n",
    "    def get_geometric_type(self): \n",
    "        return self.geometric_type\n",
    "\n",
    "\n",
    "class Plotter:\n",
    "    def plot(self, ratio, topleft):\n",
    "        # Imagine some nice plotting logic here...\n",
    "        print('Plotting at {}, ratio {}.'.format(\n",
    "               topleft, ratio))\n",
    "\n",
    "# Plotter에 plot 메소드 정의해두고, Polygon에서 다중 상속 받아 plot 기능을 사용할 수 있도록 하는 테크닉\n",
    "# -> DJango/Flask의 mixins이라는 special class 개념에 활용됨\n",
    "class Polygon(Shape, Plotter): # base class for polygons \n",
    "    geometric_type = 'Polygon'\n",
    "\n",
    "    \n",
    "class RegularPolygon(Polygon): # Is-A Polygon \n",
    "    geometric_type = 'Regular Polygon'\n",
    "    \n",
    "    def __init__(self, side): \n",
    "        self.side = side\n",
    "\n",
    "        \n",
    "class RegularHexagon(RegularPolygon): # Is-A RegularPolygon \n",
    "    geometric_type = 'RegularHexagon'\n",
    "    \n",
    "    def area(self):\n",
    "        return 1.5 * (3 ** .5 * self.side ** 2)\n",
    "\n",
    "    \n",
    "class Square(RegularPolygon): # Is-A RegularPolygon \n",
    "    geometric_type = 'Square'\n",
    "\n",
    "    def area(self):\n",
    "        return self.side * self.side\n",
    "\n",
    "\n",
    "hexagon = RegularHexagon(10)\n",
    "print(hexagon.area())  # 259.8076211353316\n",
    "print(hexagon.get_geometric_type())  # RegularHexagon\n",
    "hexagon.plot(0.8, (75, 77))  # Plotting at (75, 77), ratio 0.8.\n",
    "\n",
    "square = Square(12)\n",
    "print(square.area())  # 144\n",
    "print(square.get_geometric_type())  # Square\n",
    "square.plot(0.93, (74, 75))  # Plotting at (74, 75), ratio 0.93.\n",
    "\n",
    "# MRO (method resolution order) : 아래 3가지 방식으로 호출 가능 \n",
    "# 아래 리스트에 나열된 순서에 따라 탐색한다. \n",
    "# 근데 보니까 다중상속의 경우에는 보다 앞쪽에 인자로 넣어 상속받은 class를 우선적으로 탐색하는 것으로 보임. \n",
    "print(square.__class__.__mro__)\n",
    "print(Square.__mro__)\n",
    "print(Square.mro())"
   ]
  },
  {
   "cell_type": "code",
   "execution_count": 57,
   "metadata": {},
   "outputs": [
    {
     "name": "stdout",
     "output_type": "stream",
     "text": [
      "b\n",
      "[<class '__main__.D'>, <class '__main__.B'>, <class '__main__.C'>, <class '__main__.A'>, <class 'object'>]\n"
     ]
    }
   ],
   "source": [
    "class A:\n",
    "    label = 'a'\n",
    "\n",
    "class B(A):\n",
    "    label = 'b'\n",
    "\n",
    "class C(A):\n",
    "    label = 'c'\n",
    "\n",
    "class D(B, C):\n",
    "    pass\n",
    "\n",
    "d = D()\n",
    "print(d.label)\n",
    "print(d.__class__.mro())"
   ]
  },
  {
   "cell_type": "markdown",
   "metadata": {},
   "source": [
    "# Static method & Class method"
   ]
  },
  {
   "cell_type": "code",
   "execution_count": 60,
   "metadata": {},
   "outputs": [
    {
     "name": "stdout",
     "output_type": "stream",
     "text": [
      "False\n",
      "True\n",
      "True\n",
      "True\n",
      "{'palindromes.', 'love', 'them!', 'I', 'really'}\n"
     ]
    }
   ],
   "source": [
    "# static method\n",
    "class String:\n",
    "    @staticmethod\n",
    "    def is_palindrome(s, case_insensitive=True):\n",
    "        # we allow only letters and numbers\n",
    "        s = ''.join(c for c in s if c.isalnum()) # Study this! \n",
    "        # For case insensitive comparison, we lower-case s\n",
    "        if case_insensitive:\n",
    "            s = s.lower()\n",
    "        for c in range(len(s) // 2):\n",
    "            if s[c] != s[-c -1]:\n",
    "                return False\n",
    "        return True\n",
    "\n",
    "    @staticmethod\n",
    "    def get_unique_words(sentence):\n",
    "        return set(sentence.split())\n",
    "    \n",
    "    \n",
    "print(String.is_palindrome('Radar', case_insensitive=False))  # False: Case Sensitive\n",
    "print(String.is_palindrome('A nut for a jar of tuna'))  # True\n",
    "print(String.is_palindrome('Never Odd, Or Even!'))  # True\n",
    "print(String.is_palindrome(\n",
    "    'In Girum Imus Nocte Et Consumimur Igni')  # Latin! Show-off!\n",
    "     )  # True\n",
    "print(String.get_unique_words(\n",
    "    'I love palindromes. I really really love them!'))\n",
    "# {'them!', 'really', 'palindromes.', 'I', 'love'}"
   ]
  },
  {
   "cell_type": "code",
   "execution_count": 72,
   "metadata": {},
   "outputs": [
    {
     "name": "stdout",
     "output_type": "stream",
     "text": [
      "3 7\n",
      "614 ns ± 16.2 ns per loop (mean ± std. dev. of 7 runs, 1000000 loops each)\n",
      "3 7\n"
     ]
    }
   ],
   "source": [
    "# class method\n",
    "class Point:\n",
    "    def __init__(self, x, y):\n",
    "        self.x = x\n",
    "        self.y = y\n",
    "\n",
    "    @classmethod\n",
    "    def from_tuple(cls, coords): # cls is Point\n",
    "        return cls(*coords)\n",
    "\n",
    "    @classmethod\n",
    "    def from_point(cls, point): # cls is Point\n",
    "        return cls(point.x, point.y)\n",
    "        \n",
    "p = Point.from_tuple((3, 7))\n",
    "print(p.x, p.y)  # 3 7\n",
    "q = Point.from_point(p)\n",
    "print(q.x, q.y)  # 3 7"
   ]
  },
  {
   "cell_type": "code",
   "execution_count": 73,
   "metadata": {},
   "outputs": [
    {
     "name": "stdout",
     "output_type": "stream",
     "text": [
      "True\n",
      "False\n"
     ]
    }
   ],
   "source": [
    "class String:\n",
    "    @classmethod\n",
    "    def is_palindrome(cls, s, case_insensitive=True):\n",
    "        s = cls._strip_string(s)\n",
    "        # For case insensitive comparison, we lower-case s\n",
    "        if case_insensitive:\n",
    "            s = s.lower()\n",
    "        return cls._is_palindrome(s)\n",
    "\n",
    "    @staticmethod\n",
    "    def _strip_string(s):\n",
    "        return ''.join(c for c in s if c.isalnum())\n",
    "\n",
    "    @staticmethod\n",
    "    def _is_palindrome(s):\n",
    "        for c in range(len(s) // 2):\n",
    "            if s[c] != s[-c -1]:\n",
    "                return False\n",
    "        return True\n",
    "       \n",
    "    @staticmethod\n",
    "    def get_unique_words(sentence):\n",
    "        return set(sentence.split()) \n",
    "\n",
    "print(String.is_palindrome('A nut for a jar of tuna')) # True\n",
    "print(String.is_palindrome('A nut for a jar of beans')) # False"
   ]
  },
  {
   "cell_type": "code",
   "execution_count": null,
   "metadata": {},
   "outputs": [],
   "source": []
  }
 ],
 "metadata": {
  "kernelspec": {
   "display_name": "Python 3",
   "language": "python",
   "name": "python3"
  },
  "language_info": {
   "codemirror_mode": {
    "name": "ipython",
    "version": 3
   },
   "file_extension": ".py",
   "mimetype": "text/x-python",
   "name": "python",
   "nbconvert_exporter": "python",
   "pygments_lexer": "ipython3",
   "version": "3.6.5"
  }
 },
 "nbformat": 4,
 "nbformat_minor": 2
}
