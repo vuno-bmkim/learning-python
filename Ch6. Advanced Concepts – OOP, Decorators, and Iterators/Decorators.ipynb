{
 "cells": [
  {
   "cell_type": "markdown",
   "metadata": {},
   "source": [
    "# Decorators"
   ]
  },
  {
   "cell_type": "code",
   "execution_count": 1,
   "metadata": {},
   "outputs": [
    {
     "name": "stdout",
     "output_type": "stream",
     "text": [
      "f took:  0.30155110359191895\n",
      "g took: 0.5018911361694336\n"
     ]
    }
   ],
   "source": [
    "from time import sleep, time\n",
    "\n",
    "def f():\n",
    "    sleep(.3)\n",
    "\n",
    "def g():\n",
    "    sleep(.5)\n",
    "\n",
    "t = time()\n",
    "f()\n",
    "print('f took: ', time() - t) # f took: 0.3003859519958496\n",
    "\n",
    "t = time()\n",
    "g()\n",
    "print('g took:', time() - t)  # g took: 0.5005719661712646"
   ]
  },
  {
   "cell_type": "code",
   "execution_count": 2,
   "metadata": {},
   "outputs": [
    {
     "name": "stdout",
     "output_type": "stream",
     "text": [
      "f took: 0.30518293380737305\n",
      "g took: 0.5045621395111084\n"
     ]
    }
   ],
   "source": [
    "from time import sleep, time\n",
    "\n",
    "def f():\n",
    "    sleep(.3)\n",
    "\n",
    "def g():\n",
    "    sleep(.5)\n",
    "\n",
    "def measure(func):\n",
    "    t = time()\n",
    "    func()\n",
    "    print(func.__name__, 'took:', time() - t)\n",
    "\n",
    "measure(f)  # f took: 0.30041074752807617\n",
    "measure(g)  # g took: 0.5006198883056641"
   ]
  },
  {
   "cell_type": "code",
   "execution_count": 3,
   "metadata": {},
   "outputs": [
    {
     "name": "stdout",
     "output_type": "stream",
     "text": [
      "f took: 0.3005850315093994\n",
      "f took: 0.20444798469543457\n"
     ]
    }
   ],
   "source": [
    "from time import sleep, time\n",
    "\n",
    "def f(sleep_time=0.1): \n",
    "    sleep(sleep_time)\n",
    "\n",
    "def measure(func, *args, **kwargs):\n",
    "    t = time()\n",
    "    func(*args, **kwargs)\n",
    "    print(func.__name__, 'took:', time() - t)\n",
    "\n",
    "measure(f, sleep_time=0.3) # f took: 0.3004162311553955\n",
    "measure(f, 0.2) # f took: 0.20028162002563477"
   ]
  },
  {
   "cell_type": "code",
   "execution_count": 5,
   "metadata": {},
   "outputs": [
    {
     "name": "stdout",
     "output_type": "stream",
     "text": [
      "f took: 0.20204496383666992\n",
      "f took: 0.3000967502593994\n",
      "wrapper\n"
     ]
    }
   ],
   "source": [
    "from time import sleep, time\n",
    "\n",
    "def f(sleep_time=0.1):\n",
    "    sleep(sleep_time)\n",
    "\n",
    "def measure(func):\n",
    "    def wrapper(*args, **kwargs):\n",
    "        t = time()\n",
    "        func(*args, **kwargs)\n",
    "        print(func.__name__, 'took:', time() - t)\n",
    "    return wrapper \n",
    "\n",
    "f = measure(f)  # decoration point\n",
    "\n",
    "f(0.2)  # f took: 0.2002875804901123\n",
    "f(sleep_time=0.3)  # f took: 0.3003721237182617\n",
    "print(f.__name__)  # wrapper  <- ouch!"
   ]
  },
  {
   "cell_type": "code",
   "execution_count": 6,
   "metadata": {},
   "outputs": [
    {
     "name": "stdout",
     "output_type": "stream",
     "text": [
      "f took: 0.20047688484191895\n",
      "f took: 0.30260300636291504\n",
      "wrapper\n"
     ]
    }
   ],
   "source": [
    "from time import sleep, time\n",
    "\n",
    "def measure(func):\n",
    "    def wrapper(*args, **kwargs):\n",
    "        t = time()\n",
    "        func(*args, **kwargs)\n",
    "        print(func.__name__, 'took:', time() - t)\n",
    "    return wrapper \n",
    "\n",
    "\n",
    "@measure\n",
    "def f(sleep_time=0.1):\n",
    "    sleep(sleep_time)\n",
    "    \n",
    "f(0.2)  # f took: 0.2002875804901123\n",
    "f(sleep_time=0.3)  # f took: 0.3003721237182617\n",
    "print(f.__name__)  # wrapper  <- ouch!"
   ]
  },
  {
   "cell_type": "code",
   "execution_count": 13,
   "metadata": {},
   "outputs": [
    {
     "name": "stdout",
     "output_type": "stream",
     "text": [
      "f took: 0.30457496643066406\n",
      "f : I'm a cat. I love to sleep! \n"
     ]
    }
   ],
   "source": [
    "from time import sleep, time\n",
    "from functools import wraps\n",
    "\n",
    "def measure(func):\n",
    "    #@wraps 데코레이터를 통해 데코레이터를 쓰지만 __name__, __doc__ 등은 f함수에 적용되도록 처리 \n",
    "    @wraps(func)\n",
    "    def wrapper(*args, **kwargs):\n",
    "        t = time()\n",
    "        func(*args, **kwargs)\n",
    "        print(func.__name__, 'took:', time() - t)\n",
    "    return wrapper\n",
    "\n",
    "@measure\n",
    "def f(sleep_time=0.1):\n",
    "    \"\"\"I'm a cat. I love to sleep! \"\"\"\n",
    "    sleep(sleep_time)\n",
    "\n",
    "f(sleep_time=0.3)  # f took: 0.30039525032043457\n",
    "print(f.__name__, ':', f.__doc__) # f : I'm a cat. I love to sleep!"
   ]
  },
  {
   "cell_type": "code",
   "execution_count": 17,
   "metadata": {},
   "outputs": [
    {
     "name": "stdout",
     "output_type": "stream",
     "text": [
      "cube took: 3.0994415283203125e-06\n",
      "8\n",
      "=================\n",
      "Result is too big (125). Max allowed is 100.\n",
      "cube took: 3.1948089599609375e-05\n",
      "125\n",
      "=================\n",
      "cube\n"
     ]
    }
   ],
   "source": [
    "from time import sleep, time\n",
    "from functools import wraps\n",
    "\n",
    "def measure(func):\n",
    "    @wraps(func)\n",
    "    def wrapper(*args, **kwargs):\n",
    "        t = time()\n",
    "        result = func(*args, **kwargs) \n",
    "        print(func.__name__, 'took:', time() - t) \n",
    "        return result\n",
    "    return wrapper\n",
    "\n",
    "def max_result(func):\n",
    "    @wraps(func)\n",
    "    def wrapper(*args, **kwargs): \n",
    "        result = func(*args, **kwargs) \n",
    "        if result > 100:\n",
    "            print('Result is too big ({0}). Max allowed is 100.'\n",
    "                  .format(result))\n",
    "        return result\n",
    "    return wrapper\n",
    "\n",
    "@measure\n",
    "@max_result\n",
    "def cube(n):\n",
    "    return n ** 3\n",
    "   \n",
    "print(cube(2))\n",
    "print(\"=================\")\n",
    "print(cube(5))\n",
    "\n",
    "print(\"=================\")\n",
    "# @wraps만 써주면 여러번 decorator를 중첩으로 적용해도 __name__은 원함수에 잘 적용됨 \n",
    "print(cube.__name__)"
   ]
  },
  {
   "cell_type": "markdown",
   "metadata": {},
   "source": [
    "# Decorator factory"
   ]
  },
  {
   "cell_type": "code",
   "execution_count": 28,
   "metadata": {},
   "outputs": [
    {
     "name": "stdout",
     "output_type": "stream",
     "text": [
      "Result is too big (125). Max allowed is 75.\n",
      "125\n",
      "Result is too big (144). Max allowed is 100.\n",
      "144\n",
      "Result is too big (20000). Max allowed is 1000.\n",
      "20000\n"
     ]
    }
   ],
   "source": [
    "# 원래 decorator는 함수를 인자로 받는데, \n",
    "# outer에는 넣고자 하는 변수를 인자로 하고, 그 안에 inner 함수를 정의하여 함수를 인자로 받도록 처리하면 \n",
    "# 위 사례와 달리 인자를 받는 decorator 구현 가능 (dynamically하게 threshold 설정 가능)\n",
    "# \"closure\" 라는 메커니즘을 사용한 것 \n",
    "\n",
    "from functools import wraps\n",
    "def max_result(threshold): \n",
    "    def decorator(func):\n",
    "        @wraps(func)\n",
    "        def wrapper(*args, **kwargs):\n",
    "            result = func(*args, **kwargs)\n",
    "            if result > threshold:\n",
    "                print(\n",
    "                    'Result is too big ({0}). Max allowed is {1}.'\n",
    "                    .format(result, threshold))\n",
    "            return result\n",
    "        return wrapper\n",
    "    return decorator\n",
    "\n",
    "\n",
    "@max_result(75) \n",
    "def cube(n):\n",
    "    return n ** 3\n",
    "\n",
    "@max_result(100) \n",
    "def square(n):\n",
    "    return n ** 2\n",
    "\n",
    "@max_result(1000) \n",
    "def multiply(a, b):\n",
    "    return a * b\n",
    "\n",
    "print(cube(5))\n",
    "print(square(12))\n",
    "print(multiply(1000, 20))"
   ]
  },
  {
   "cell_type": "code",
   "execution_count": null,
   "metadata": {},
   "outputs": [],
   "source": []
  }
 ],
 "metadata": {
  "kernelspec": {
   "display_name": "Python 3",
   "language": "python",
   "name": "python3"
  },
  "language_info": {
   "codemirror_mode": {
    "name": "ipython",
    "version": 3
   },
   "file_extension": ".py",
   "mimetype": "text/x-python",
   "name": "python",
   "nbconvert_exporter": "python",
   "pygments_lexer": "ipython3",
   "version": "3.6.5"
  }
 },
 "nbformat": 4,
 "nbformat_minor": 2
}
