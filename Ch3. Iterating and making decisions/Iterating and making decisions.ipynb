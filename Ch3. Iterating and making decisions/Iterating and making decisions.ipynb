{
 "cells": [
  {
   "cell_type": "code",
   "execution_count": 8,
   "metadata": {},
   "outputs": [
    {
     "data": {
      "text/plain": [
       "[0, 1, 2, 3, 4, 5, 6, 7, 8, 9]"
      ]
     },
     "execution_count": 8,
     "metadata": {},
     "output_type": "execute_result"
    }
   ],
   "source": [
    "# 인자 1개 -> 0부터 a까지 (excluded)\n",
    "list(range(10))"
   ]
  },
  {
   "cell_type": "code",
   "execution_count": 9,
   "metadata": {},
   "outputs": [
    {
     "data": {
      "text/plain": [
       "[3, 4, 5, 6, 7]"
      ]
     },
     "execution_count": 9,
     "metadata": {},
     "output_type": "execute_result"
    }
   ],
   "source": [
    "# 인자 2개 -> a부터 b까지 (excluded)\n",
    "list(range(3, 8))"
   ]
  },
  {
   "cell_type": "code",
   "execution_count": 10,
   "metadata": {},
   "outputs": [
    {
     "data": {
      "text/plain": [
       "[-10, -6, -2, 2, 6]"
      ]
     },
     "execution_count": 10,
     "metadata": {},
     "output_type": "execute_result"
    }
   ],
   "source": [
    "# 인자 3개 -> a부터 b까지 c스텝씩 띄어가며 (excluded)\n",
    "list(range(-10, 10, 4))"
   ]
  },
  {
   "cell_type": "code",
   "execution_count": 14,
   "metadata": {},
   "outputs": [
    {
     "name": "stdout",
     "output_type": "stream",
     "text": [
      "Jonas 25\n",
      "Julio 30\n",
      "Mike 31\n",
      "Mez 39\n",
      "Jonas 25 Belgium\n",
      "Julio 30 Spain\n",
      "Mike 31 England\n",
      "Mez 39 Bangladesh\n",
      "Jonas 25 Belgium\n",
      "Julio 30 Spain\n",
      "Mike 31 England\n",
      "Mez 39 Bangladesh\n"
     ]
    }
   ],
   "source": [
    "# \"zip\" for iterating over multiple sequences\n",
    "people = ['Jonas', 'Julio', 'Mike', 'Mez']\n",
    "ages = [25, 30, 31, 39]\n",
    "for person, age in zip(people, ages):\n",
    "    print(person, age)\n",
    "    \n",
    "    \n",
    "people = ['Jonas', 'Julio', 'Mike', 'Mez']\n",
    "ages = [25, 30, 31, 39]\n",
    "nationalities = ['Belgium', 'Spain', 'England', 'Bangladesh']\n",
    "for person, age, nationality in zip(people, ages, nationalities):\n",
    "       print(person, age, nationality)\n",
    "        \n",
    "        \n",
    "people = ['Jonas', 'Julio', 'Mike', 'Mez']\n",
    "ages = [25, 30, 31, 39]\n",
    "nationalities = ['Belgium', 'Spain', 'England', 'Bangladesh'] \n",
    "for data in zip(people, ages, nationalities):\n",
    "    person, age, nationality = data\n",
    "    print(person, age, nationality)"
   ]
  },
  {
   "cell_type": "code",
   "execution_count": 17,
   "metadata": {},
   "outputs": [
    {
     "name": "stdout",
     "output_type": "stream",
     "text": [
      "[1, 0, 0, 1, 1, 1]\n"
     ]
    }
   ],
   "source": [
    "n = 39 \n",
    "remainders = [] \n",
    "while n > 0:\n",
    "    remainder = n % 2  # remainder of division by 2\n",
    "    remainders.append(remainder)  # we keep track of remainders\n",
    "    n //= 2  # we divide n by 2\n",
    "    \n",
    "# reassign the list to its reversed copy and print it \n",
    "remainders = remainders[::-1]\n",
    "\n",
    "# 결과적으로 아래는 n을 2진수로 표현한 것이 됨 \n",
    "print(remainders)"
   ]
  },
  {
   "cell_type": "code",
   "execution_count": 18,
   "metadata": {},
   "outputs": [
    {
     "name": "stdout",
     "output_type": "stream",
     "text": [
      "[1, 0, 0, 1, 1, 1]\n"
     ]
    }
   ],
   "source": [
    "# 좀더 간결한 문법 \n",
    "\n",
    "n = 39\n",
    "remainders = []\n",
    "while n > 0:\n",
    "    n, remainder = divmod(n, 2)\n",
    "    remainders.append(remainder)\n",
    "\n",
    "# reassign the list to its reversed copy and print it\n",
    "remainders = remainders[::-1]\n",
    "print(remainders)"
   ]
  },
  {
   "cell_type": "code",
   "execution_count": 21,
   "metadata": {},
   "outputs": [
    {
     "name": "stdout",
     "output_type": "stream",
     "text": [
      "Price for sku 1 is now 80.0\n",
      "Price for sku 3 is now 16.0\n"
     ]
    }
   ],
   "source": [
    "from datetime import date, timedelta\n",
    "\n",
    "today = date.today()\n",
    "tomorrow = today + timedelta(days=1)  # today + 1 day is tomorrow\n",
    "products = [\n",
    "    {'sku': '1', 'expiration_date': today, 'price': 100.0}, {'sku': '2', 'expiration_date': tomorrow, 'price': 50}, {'sku': '3', 'expiration_date': today, 'price': 20},\n",
    "]\n",
    "\n",
    "for product in products:\n",
    "    if product['expiration_date'] != today:\n",
    "        continue\n",
    "    product['price'] *= 0.8  # equivalent to applying 20% discount\n",
    "    print(\n",
    "        'Price for sku', product['sku'],\n",
    "        'is now', product['price'])\n"
   ]
  },
  {
   "cell_type": "code",
   "execution_count": 22,
   "metadata": {},
   "outputs": [
    {
     "name": "stdout",
     "output_type": "stream",
     "text": [
      "5, 8, 11, 14, 17, 20, "
     ]
    }
   ],
   "source": [
    "from itertools import count\n",
    "for n in count(5, 3):\n",
    "    if n > 20:\n",
    "        break\n",
    "    print(n, end=', ') "
   ]
  },
  {
   "cell_type": "code",
   "execution_count": null,
   "metadata": {},
   "outputs": [],
   "source": []
  }
 ],
 "metadata": {
  "kernelspec": {
   "display_name": "Python 3",
   "language": "python",
   "name": "python3"
  },
  "language_info": {
   "codemirror_mode": {
    "name": "ipython",
    "version": 3
   },
   "file_extension": ".py",
   "mimetype": "text/x-python",
   "name": "python",
   "nbconvert_exporter": "python",
   "pygments_lexer": "ipython3",
   "version": "3.6.5"
  }
 },
 "nbformat": 4,
 "nbformat_minor": 2
}
