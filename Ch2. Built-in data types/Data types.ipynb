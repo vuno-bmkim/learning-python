{
 "cells": [
  {
   "cell_type": "markdown",
   "metadata": {},
   "source": [
    "# Immutable Object"
   ]
  },
  {
   "cell_type": "code",
   "execution_count": 25,
   "metadata": {},
   "outputs": [
    {
     "name": "stdout",
     "output_type": "stream",
     "text": [
      "4528263072\n",
      "4528263104\n"
     ]
    }
   ],
   "source": [
    "# int object는 immutable이다. \n",
    "# 아래와 같이 값을 변경할 경우 기존 object (value=42) 의 value가 변하는 것이 아니고, \n",
    "# 새로운 int object (value = 43) 이 생성되고, \n",
    "# age name이 새롭게 생성된 object를 참조하도록 변경된다. \n",
    "\n",
    "age = 42\n",
    "print(id(age))\n",
    "\n",
    "age = 43\n",
    "print(id(age))"
   ]
  },
  {
   "cell_type": "markdown",
   "metadata": {},
   "source": [
    "# Mutable Object"
   ]
  },
  {
   "cell_type": "code",
   "execution_count": 26,
   "metadata": {},
   "outputs": [
    {
     "name": "stdout",
     "output_type": "stream",
     "text": [
      "39\n",
      "id of fab object :  4562856368\n",
      "id of fab.age object :  4528262976\n",
      "29\n",
      "id of fab object :  4562856368 (same id -> value changed -> mutable object)\n",
      "id of fab.age object :  4528262656 (different id -> created new object -> immutable object)\n"
     ]
    }
   ],
   "source": [
    "class Person:\n",
    "    def __init__(self, age):\n",
    "        self.age = age\n",
    "        \n",
    "fab = Person(age=39)\n",
    "print(fab.age)\n",
    "print(\"id of fab object : \", id(fab))\n",
    "print(\"id of fab.age object : \", id(fab.age))\n",
    "fab.age = 29\n",
    "print(fab.age)\n",
    "print(\"id of fab object : \", id(fab), \"(same id -> value changed -> mutable object)\")\n",
    "print(\"id of fab.age object : \", id(fab.age), \"(different id -> created new object -> immutable object)\")"
   ]
  },
  {
   "cell_type": "markdown",
   "metadata": {},
   "source": [
    "# Integer (int class)"
   ]
  },
  {
   "cell_type": "code",
   "execution_count": 43,
   "metadata": {},
   "outputs": [
    {
     "name": "stdout",
     "output_type": "stream",
     "text": [
      "<class 'int'>\n",
      "15\n",
      "9\n",
      "4\n",
      "4.0\n",
      "0\n",
      "36\n",
      "531441\n",
      "179769313486231590772930519078902473361797697894230657273430081157732675805500963132708477322407536021120113879871393357658789768814416622492847430639474124377767893424865485276302219601246094119453082952085005768838150682342462881473913110540827237163350510684586298239947245938479716304835356329624224137216\n",
      "1.75 1\n",
      "-1.75 -2\n",
      "1.75 1\n",
      "-1.75 -1\n"
     ]
    }
   ],
   "source": [
    "a = 12\n",
    "b = 3\n",
    "\n",
    "print(type(a))\n",
    "\n",
    "print(a+b) \n",
    "print(a-b)\n",
    "print(a//b)    # integer division (returns the floored quotient of the operands)\n",
    "print(a/b)     # true division \n",
    "print(a%b)     # modulo operator (division의 나머지)\n",
    "print(a*b) \n",
    "print(b**a)    # power operation \n",
    "print(2**1024) # a very big number, Python handles it gracefully\n",
    "\n",
    "\n",
    "# integer division의 경우 negative numbers에 대해 결과가 opposite이 아니다. \n",
    "# Python integer division(//) 처리 방식 : always rounded towards minus infinity\n",
    "print (7/4, 7//4)\n",
    "print (-7/4, -7//4)\n",
    "\n",
    "\n",
    "# 그냥 truncate를 원하는 경우에는 built-in int 함수를 사용한다. \n",
    "print (7/4, int(7/4))\n",
    "print(-7/4, int(-7/4))"
   ]
  },
  {
   "cell_type": "markdown",
   "metadata": {},
   "source": [
    "# Boolean (bool class)"
   ]
  },
  {
   "cell_type": "code",
   "execution_count": 44,
   "metadata": {},
   "outputs": [
    {
     "name": "stdout",
     "output_type": "stream",
     "text": [
      "<class 'bool'>\n",
      "1\n",
      "0\n",
      "True\n",
      "True\n",
      "False\n",
      "True\n",
      "False\n",
      "True\n",
      "False\n",
      "False\n",
      "True\n",
      "False\n",
      "True\n",
      "2\n",
      "42\n",
      "6\n"
     ]
    }
   ],
   "source": [
    "t = True\n",
    "f = False \n",
    "print(type(t))\n",
    "\n",
    "# bool -> int \n",
    "print(int(True))\n",
    "print(int(False))\n",
    "\n",
    "# other built-in Python object -> bool \n",
    "# every built-in Python object has a value in the Boolean context \n",
    "print(bool(1))\n",
    "print(bool(-42))\n",
    "print(bool(0))\n",
    "print(bool(\"hi\"))\n",
    "print(bool(\"\"))\n",
    "print(bool(1.12341234))\n",
    "print(bool(0.0000))\n",
    "\n",
    "# logical operators : and, or, not \n",
    "print(not t)\n",
    "print(not f)\n",
    "print(f and t)\n",
    "print(f or t)\n",
    "\n",
    "# integer operator를 bool에 쓰면 upcast하여 bool -> int됨 (bool은 integer의 subclass)\n",
    "# Upcasting : type conversion operation that goes from a subclass to its parent (ch6에서 다룸)\n",
    "print(1 + t)\n",
    "print(f + 42)\n",
    "print(7 - t)"
   ]
  },
  {
   "cell_type": "markdown",
   "metadata": {},
   "source": [
    "# Reals (float class)"
   ]
  },
  {
   "cell_type": "code",
   "execution_count": 61,
   "metadata": {},
   "outputs": [
    {
     "name": "stdout",
     "output_type": "stream",
     "text": [
      "<class 'float'>\n",
      "63.617251235400005\n",
      "sys.float_info(max=1.7976931348623157e+308, max_exp=1024, max_10_exp=308, min=2.2250738585072014e-308, min_exp=-1021, min_10_exp=-307, dig=15, mant_dig=53, epsilon=2.220446049250313e-16, radix=2, rounds=1)\n",
      "5.551115123125783e-17\n",
      "<class 'decimal.Decimal'>\n",
      "3\n",
      "0.1000000000000000055511151231257827021181583404541015625\n",
      "0.299999999999999988897769753748434595763683319091796875\n",
      "2.775557561565156540423631668E-17\n"
     ]
    }
   ],
   "source": [
    "pi = 3.1415926536\n",
    "radius = 4.5 \n",
    "area = pi * (radius ** 2)\n",
    "print(type(pi))\n",
    "print(area)\n",
    "\n",
    "\n",
    "import sys\n",
    "print(sys.float_info)\n",
    "\n",
    "\n",
    "# 매우 단순한 아래 숫자 같은 경우도 approximaiton issue가 생길 수 있다는 문제\n",
    "print(3 * 0.1 - 0.3)\n",
    "import decimal\n",
    "print(type(decimal.Decimal(3)))\n",
    "print(decimal.Decimal(3))\n",
    "print(decimal.Decimal(0.1))\n",
    "print(decimal.Decimal(0.3))\n",
    "print(decimal.Decimal(3)* decimal.Decimal(0.1) - decimal.Decimal(0.3))"
   ]
  },
  {
   "cell_type": "code",
   "execution_count": 60,
   "metadata": {},
   "outputs": [
    {
     "name": "stdout",
     "output_type": "stream",
     "text": [
      "<class 'complex'>\n",
      "(3.14+2.73j)\n",
      "3.14\n",
      "2.73\n",
      "<class 'fractions.Fraction'>\n"
     ]
    }
   ],
   "source": [
    "c = 3.14 + 2.73j\n",
    "print(type(c))\n",
    "print(c)\n",
    "print(c.real)\n",
    "print(c.imag)\n",
    "\n",
    "\n",
    "from fractions import Fraction\n",
    "print(type(Fraction(10, 6)))\n"
   ]
  },
  {
   "cell_type": "code",
   "execution_count": 66,
   "metadata": {},
   "outputs": [
    {
     "name": "stdout",
     "output_type": "stream",
     "text": [
      "This is üŋíc0de\n",
      "<class 'str'>\n",
      "b'This is u\\xcc\\x88\\xc5\\x8bi\\xcc\\x81c0de'\n",
      "<class 'bytes'>\n",
      "b'A bytes object'\n",
      "<class 'bytes'>\n"
     ]
    }
   ],
   "source": [
    "s = \"This is üŋíc0de\"\n",
    "print(s)\n",
    "print(type(s))\n",
    "encoded_s = s.encode('utf-8')\n",
    "print(encoded_s)\n",
    "print(type(encoded_s))\n",
    "\n",
    "bytes_obj = b\"A bytes object\"\n",
    "print(bytes_obj)\n",
    "print(type(bytes_obj))"
   ]
  },
  {
   "cell_type": "code",
   "execution_count": 69,
   "metadata": {},
   "outputs": [
    {
     "name": "stdout",
     "output_type": "stream",
     "text": [
      "<class 'list'>\n",
      "bytearray(b'Lina')\n",
      "<class 'bytearray'>\n"
     ]
    }
   ],
   "source": [
    "l = [1, 2, 3]\n",
    "print(type(l))\n",
    "\n",
    "name = bytearray(b'Lina')\n",
    "print(name)\n",
    "print(type(name))"
   ]
  },
  {
   "cell_type": "code",
   "execution_count": 70,
   "metadata": {},
   "outputs": [
    {
     "name": "stdout",
     "output_type": "stream",
     "text": [
      "<class 'set'>\n"
     ]
    }
   ],
   "source": [
    "small_primes = {2, 4, 5}\n",
    "print(type(small_primes))"
   ]
  },
  {
   "cell_type": "code",
   "execution_count": 77,
   "metadata": {},
   "outputs": [
    {
     "name": "stdout",
     "output_type": "stream",
     "text": [
      "dict_items([('g', 3), ('f', 6), ('b', 1), ('a', 3), ('d', 4), ('c', 2)])\n",
      "1\n",
      "1\n"
     ]
    }
   ],
   "source": [
    "d = {'g':3, 'f':6}\n",
    "d['b'] = 1\n",
    "d['a'] = 3\n",
    "d['d'] = 4\n",
    "d['c'] = 2\n",
    "print(d.items())\n",
    "\n",
    "print(d.get('s', 1))\n",
    "print(d.setdefault('s', 1))"
   ]
  },
  {
   "cell_type": "code",
   "execution_count": 89,
   "metadata": {},
   "outputs": [
    {
     "name": "stdout",
     "output_type": "stream",
     "text": [
      "4569674000\n",
      "4569674256\n",
      "4569674032\n",
      "4528261888\n",
      "4528261888\n",
      "4528261888\n",
      "4568524704\n",
      "4568524704\n",
      "4568524704\n",
      "140547938944272\n",
      "140547938959072\n",
      "140547938959872\n"
     ]
    }
   ],
   "source": [
    "a = 100000000\n",
    "b = 100000000\n",
    "c = 100000000\n",
    "print(id(a))\n",
    "print(id(b))\n",
    "print(id(c))\n",
    "\n",
    "a = 5\n",
    "b = 5\n",
    "c = 5\n",
    "print(id(a))\n",
    "print(id(b))\n",
    "print(id(c))\n",
    "\n",
    "a = \"abcdefg\"\n",
    "b = \"abcdefg\"\n",
    "c = \"abcdefg\"\n",
    "print(id(a))\n",
    "print(id(b))\n",
    "print(id(c))\n",
    "\n",
    "a = \"\"\"\n",
    "abcdefgabcdefgabcdefgabcdefgabcdefgabcdefgabcdefgabcdefgabcdefgabcdefgabcdefgabcdefgabcdefgabcdefgabcdefg\n",
    "abcdefgabcdefgabcdefgabcdefgabcdefgabcdefgabcdefgabcdefgabcdefgabcdefgabcdefgabcdefgabcdefgabcdefgabcdefg\n",
    "abcdefgabcdefgabcdefgabcdefgabcdefgabcdefgabcdefgabcdefgabcdefgabcdefgabcdefgabcdefgabcdefgabcdefgabcdefg\n",
    "abcdefgabcdefgabcdefgabcdefgabcdefgabcdefgabcdefgabcdefgabcdefgabcdefgabcdefgabcdefgabcdefgabcdefgabcdefg\n",
    "abcdefgabcdefgabcdefgabcdefgabcdefgabcdefgabcdefgabcdefgabcdefgabcdefgabcdefgabcdefgabcdefgabcdefgabcdefg\n",
    "abcdefgabcdefgabcdefgabcdefgabcdefgabcdefgabcdefgabcdefgabcdefgabcdefgabcdefgabcdefgabcdefgabcdefgabcdefg\n",
    "abcdefgabcdefgabcdefgabcdefgabcdefgabcdefgabcdefgabcdefgabcdefgabcdefgabcdefgabcdefgabcdefgabcdefgabcdefg\n",
    "\"\"\"\n",
    "b = \"\"\"\n",
    "abcdefgabcdefgabcdefgabcdefgabcdefgabcdefgabcdefgabcdefgabcdefgabcdefgabcdefgabcdefgabcdefgabcdefgabcdefg\n",
    "abcdefgabcdefgabcdefgabcdefgabcdefgabcdefgabcdefgabcdefgabcdefgabcdefgabcdefgabcdefgabcdefgabcdefgabcdefg\n",
    "abcdefgabcdefgabcdefgabcdefgabcdefgabcdefgabcdefgabcdefgabcdefgabcdefgabcdefgabcdefgabcdefgabcdefgabcdefg\n",
    "abcdefgabcdefgabcdefgabcdefgabcdefgabcdefgabcdefgabcdefgabcdefgabcdefgabcdefgabcdefgabcdefgabcdefgabcdefg\n",
    "abcdefgabcdefgabcdefgabcdefgabcdefgabcdefgabcdefgabcdefgabcdefgabcdefgabcdefgabcdefgabcdefgabcdefgabcdefg\n",
    "abcdefgabcdefgabcdefgabcdefgabcdefgabcdefgabcdefgabcdefgabcdefgabcdefgabcdefgabcdefgabcdefgabcdefgabcdefg\n",
    "abcdefgabcdefgabcdefgabcdefgabcdefgabcdefgabcdefgabcdefgabcdefgabcdefgabcdefgabcdefgabcdefgabcdefgabcdefg\n",
    "\"\"\"\n",
    "c = \"\"\"\n",
    "abcdefgabcdefgabcdefgabcdefgabcdefgabcdefgabcdefgabcdefgabcdefgabcdefgabcdefgabcdefgabcdefgabcdefgabcdefg\n",
    "abcdefgabcdefgabcdefgabcdefgabcdefgabcdefgabcdefgabcdefgabcdefgabcdefgabcdefgabcdefgabcdefgabcdefgabcdefg\n",
    "abcdefgabcdefgabcdefgabcdefgabcdefgabcdefgabcdefgabcdefgabcdefgabcdefgabcdefgabcdefgabcdefgabcdefgabcdefg\n",
    "abcdefgabcdefgabcdefgabcdefgabcdefgabcdefgabcdefgabcdefgabcdefgabcdefgabcdefgabcdefgabcdefgabcdefgabcdefg\n",
    "abcdefgabcdefgabcdefgabcdefgabcdefgabcdefgabcdefgabcdefgabcdefgabcdefgabcdefgabcdefgabcdefgabcdefgabcdefg\n",
    "abcdefgabcdefgabcdefgabcdefgabcdefgabcdefgabcdefgabcdefgabcdefgabcdefgabcdefgabcdefgabcdefgabcdefgabcdefg\n",
    "abcdefgabcdefgabcdefgabcdefgabcdefgabcdefgabcdefgabcdefgabcdefgabcdefgabcdefgabcdefgabcdefgabcdefgabcdefg\n",
    "\"\"\"\n",
    "print(id(a))\n",
    "print(id(b))\n",
    "print(id(c))"
   ]
  },
  {
   "cell_type": "code",
   "execution_count": null,
   "metadata": {},
   "outputs": [],
   "source": []
  }
 ],
 "metadata": {
  "kernelspec": {
   "display_name": "Python 3",
   "language": "python",
   "name": "python3"
  },
  "language_info": {
   "codemirror_mode": {
    "name": "ipython",
    "version": 3
   },
   "file_extension": ".py",
   "mimetype": "text/x-python",
   "name": "python",
   "nbconvert_exporter": "python",
   "pygments_lexer": "ipython3",
   "version": "3.6.5"
  }
 },
 "nbformat": 4,
 "nbformat_minor": 2
}
