{
 "cells": [
  {
   "cell_type": "code",
   "execution_count": 1,
   "metadata": {},
   "outputs": [
    {
     "name": "stdout",
     "output_type": "stream",
     "text": [
      "None\n"
     ]
    }
   ],
   "source": [
    "def func():\n",
    "    pass\n",
    "\n",
    "func() # the return of this call won't be collected. It's lost.\n",
    "a = func() # the return of this one instead is collected into `a` \n",
    "print(a) # prints: None"
   ]
  },
  {
   "cell_type": "code",
   "execution_count": 4,
   "metadata": {},
   "outputs": [
    {
     "name": "stdout",
     "output_type": "stream",
     "text": [
      "120\n",
      "120\n"
     ]
    }
   ],
   "source": [
    "def factorial(n):\n",
    "    if n in (0, 1):\n",
    "        return 1\n",
    "    result = n\n",
    "    for k in range(2, n):\n",
    "        result *= k\n",
    "    return result\n",
    "\n",
    "f5 = factorial(5)  # f5 = 120\n",
    "print(f5)\n",
    "\n",
    "\n",
    "# More Pythonic way \n",
    "from functools import reduce\n",
    "from operator import mul\n",
    "def factorial(n):\n",
    "    return reduce(mul, range(1, n + 1), 1)\n",
    "\n",
    "f5 = factorial(5)  # f5 = 120\n",
    "print(f5)"
   ]
  },
  {
   "cell_type": "code",
   "execution_count": 6,
   "metadata": {},
   "outputs": [
    {
     "name": "stdout",
     "output_type": "stream",
     "text": [
      "(2, 6)\n"
     ]
    }
   ],
   "source": [
    "#Returning multiple values\n",
    "def moddiv(a, b):\n",
    "    return a // b, a % b \n",
    "\n",
    "print(moddiv(20, 7)) # prints (2, 6)"
   ]
  },
  {
   "cell_type": "code",
   "execution_count": 9,
   "metadata": {},
   "outputs": [
    {
     "name": "stdout",
     "output_type": "stream",
     "text": [
      "[4, 1, 7, 5]\n",
      "[1, 4, 5, 7]\n",
      "[1, 4, 5, 7]\n"
     ]
    }
   ],
   "source": [
    "numbers = [4, 1, 7, 5]\n",
    "sorted_numbers = sorted(numbers)\n",
    "\n",
    "# no side effect (numbers는 immutable하며 새로운 객체를 생성)\n",
    "print(numbers)\n",
    "print(sorted_numbers)\n",
    "\n",
    "# numbers가 변경됨 (하지만 이 경우는 numbers의 멤버 메소드이므로 괜찮음.)\n",
    "numbers.sort()\n",
    "print(numbers)"
   ]
  },
  {
   "cell_type": "code",
   "execution_count": 12,
   "metadata": {},
   "outputs": [
    {
     "name": "stdout",
     "output_type": "stream",
     "text": [
      "[0, 5, 10, 15, 20, 25, 30, 35, 40, 45]\n",
      "[0, 5, 10, 15, 20, 25, 30, 35, 40, 45]\n"
     ]
    }
   ],
   "source": [
    "# Anonymous function (Lambda)\n",
    "# 1) without lambda\n",
    "def is_multiple_of_five(n):\n",
    "    return not n % 5\n",
    "def get_multiples_of_five(n):\n",
    "    return list(filter(is_multiple_of_five, range(n)))\n",
    "print(get_multiples_of_five(50))\n",
    "\n",
    "\n",
    "# 2) using lambda\n",
    "def get_multiples_of_five(n):\n",
    "    return list(filter(lambda k: not k % 5, range(n)))\n",
    "print(get_multiples_of_five(50))"
   ]
  },
  {
   "cell_type": "code",
   "execution_count": 14,
   "metadata": {},
   "outputs": [],
   "source": [
    "# More Lambda Example\n",
    "\n",
    "# example 1: adder\n",
    "def adder(a, b):\n",
    "    return a + b\n",
    "# is equivalent to:\n",
    "adder_lambda = lambda a, b: a + b\n",
    "   \n",
    "\n",
    "# example 2: to uppercase\n",
    "def to_upper(s):\n",
    "    return s.upper()\n",
    "# is equivalent to:\n",
    "to_upper_lambda = lambda s: s.upper()"
   ]
  },
  {
   "cell_type": "code",
   "execution_count": 23,
   "metadata": {},
   "outputs": [
    {
     "name": "stdout",
     "output_type": "stream",
     "text": [
      "__doc__ -> Return a multiplied by b. \n",
      "__name__ -> multiplication\n",
      "__qualname__ -> multiplication\n",
      "__module__ -> __main__\n",
      "__defaults__ -> (1,)\n",
      "__code__ -> <code object multiplication at 0x1081424b0, file \"<ipython-input-23-70309087146a>\", line 2>\n",
      "__globals__ -> {'__name__': '__main__', '__doc__': 'Automatically created module for IPython interactive environment', '__package__': None, '__loader__': None, '__spec__': None, '__builtin__': <module 'builtins' (built-in)>, '__builtins__': <module 'builtins' (built-in)>, '_ih': ['', \"def func():\\n    pass\\n\\nfunc() # the return of this call won't be collected. It's lost.\\na = func() # the return of this one instead is collected into `a` \\nprint(a) # prints: None\", 'def factorial(n):\\n    if n in (0, 1):\\n        return 1\\n    result = n\\n    for k in range(2, n):\\n        result *= k\\n    return result\\n\\nf5 = factorial(5)  # f5 = 120', 'def factorial(n):\\n    if n in (0, 1):\\n        return 1\\n    result = n\\n    for k in range(2, n):\\n        result *= k\\n    return result\\n\\nf5 = factorial(5)  # f5 = 120\\nprint(f5)', 'def factorial(n):\\n    if n in (0, 1):\\n        return 1\\n    result = n\\n    for k in range(2, n):\\n        result *= k\\n    return result\\n\\nf5 = factorial(5)  # f5 = 120\\nprint(f5)\\n\\n\\n# More Pythonic way \\nfrom functools import reduce\\nfrom operator import mul\\ndef factorial(n):\\n    return reduce(mul, range(1, n + 1), 1)\\n\\nf5 = factorial(5)  # f5 = 120\\nprint(f5)', 'def moddiv(a, b):\\n    return a // b, a % b \\n\\nprint(moddiv(20, 7)) # prints (2, 6)', '#Returning multiple values\\ndef moddiv(a, b):\\n    return a // b, a % b \\n\\nprint(moddiv(20, 7)) # prints (2, 6)', 'numbers = [4, 1, 7, 5]\\nsorted(numbers)', 'numbers = [4, 1, 7, 5]\\nsorted_numbres = sorted(numbers)\\n\\nprint(numbers)\\nprint(sorted_numbers)\\n\\nnumbers.sort()\\nprint(numbers)', 'numbers = [4, 1, 7, 5]\\nsorted_numbers = sorted(numbers)\\n\\nprint(numbers)\\nprint(sorted_numbers)\\n\\nnumbers.sort()\\nprint(numbers)', '# Anonymous function (Lambda)\\n\\ndef is_multiple_of_five(n):\\n    return not n % 5\\ndef get_multiples_of_five(n):\\n    return list(filter(is_multiple_of_five, range(n)))\\nprint(get_multiples_of_five(50))', '# Anonymous function (Lambda)\\ndef is_multiple_of_five(n):\\n    return not n % 5\\ndef get_multiples_of_five(n):\\n    return list(filter(is_multiple_of_five, range(n)))\\nprint(get_multiples_of_five(50))\\n\\n\\ndef get_multiples_of_five(n):\\n    return list(filter(lambda k: not k % 5, range(n)))\\nprint(get_multiples_of_five(50))', '# Anonymous function (Lambda)\\n# 1) without lambda\\ndef is_multiple_of_five(n):\\n    return not n % 5\\ndef get_multiples_of_five(n):\\n    return list(filter(is_multiple_of_five, range(n)))\\nprint(get_multiples_of_five(50))\\n\\n\\n# 2) using lambda\\ndef get_multiples_of_five(n):\\n    return list(filter(lambda k: not k % 5, range(n)))\\nprint(get_multiples_of_five(50))', '# example 1: adder\\ndef adder(a, b):\\n    return a + b\\n# is equivalent to:\\nadder_lambda = lambda a, b: a + b\\n   \\n    \\n# example 2: to uppercase\\ndef to_upper(s):\\n    return s.upper()\\n# is equivalent to:\\nto_upper_lambda = lambda s: s.upper()', '# More Lambda Example\\n\\n# example 1: adder\\ndef adder(a, b):\\n    return a + b\\n# is equivalent to:\\nadder_lambda = lambda a, b: a + b\\n   \\n\\n# example 2: to uppercase\\ndef to_upper(s):\\n    return s.upper()\\n# is equivalent to:\\nto_upper_lambda = lambda s: s.upper()', 'def multiplication(a, b=1):\\n    \"\"\"Return a multiplied by b. \"\"\"\\n    return a * b\\n\\nspecial_attributes = [\\n    \"__doc__\", \"__name__\", \"__qualname__\", \"__module__\",\\n    \"__defaults__\", \"__code__\", \"__globals__\", \"__dict__\",\\n    \"__closure__\", \"__annotations__\", \"__kwdefaults__\",\\n]\\n\\nfor attribute in special_attributes:\\n    print(attribute, \\'->\\', getattr(multiplication, attribute))', '# function attributes \\ndef multiplication(a**, b=1):\\n    \"\"\"Return a multiplied by b. \"\"\"\\n    return a * b\\n\\nspecial_attributes = [\\n    \"__doc__\", \"__name__\", \"__qualname__\", \"__module__\",\\n    \"__defaults__\", \"__code__\", \"__globals__\", \"__dict__\",\\n    \"__closure__\", \"__annotations__\", \"__kwdefaults__\",\\n]\\n\\nfor attribute in special_attributes:\\n    print(attribute, \\'->\\', getattr(multiplication, attribute))', '# function attributes \\ndef multiplication(**a, b=1):\\n    \"\"\"Return a multiplied by b. \"\"\"\\n    return a * b\\n\\nspecial_attributes = [\\n    \"__doc__\", \"__name__\", \"__qualname__\", \"__module__\",\\n    \"__defaults__\", \"__code__\", \"__globals__\", \"__dict__\",\\n    \"__closure__\", \"__annotations__\", \"__kwdefaults__\",\\n]\\n\\nfor attribute in special_attributes:\\n    print(attribute, \\'->\\', getattr(multiplication, attribute))', '# function attributes \\ndef multiplication(a, b=1, **c):\\n    \"\"\"Return a multiplied by b. \"\"\"\\n    return a * b\\n\\nspecial_attributes = [\\n    \"__doc__\", \"__name__\", \"__qualname__\", \"__module__\",\\n    \"__defaults__\", \"__code__\", \"__globals__\", \"__dict__\",\\n    \"__closure__\", \"__annotations__\", \"__kwdefaults__\",\\n]\\n\\nfor attribute in special_attributes:\\n    print(attribute, \\'->\\', getattr(multiplication, attribute))', '# function attributes \\ndef multiplication(a, b=1):\\n    \"\"\"Return a multiplied by b. \"\"\"\\n    return a * b\\n\\nspecial_attributes = [\\n    \"__doc__\", \"__name__\", \"__qualname__\", \"__module__\",\\n    \"__defaults__\", \"__code__\", \"__globals__\", \"__dict__\",\\n    \"__closure__\", \"__annotations__\", \"__kwdefaults__\",\\n]\\n\\nfor attribute in special_attributes:\\n    print(attribute, \\'->\\', getattr(multiplication, attribute))', '# function attributes \\ndef multiplication(a, b=1):\\n    \"\"\"Return a multiplied by b. \"\"\"\\n    return a * b\\n\\nspecial_attributes = [\\n    \"__doc__\", \"__name__\", \"__qualname__\", \"__module__\",\\n    \"__defaults__\", \"__code__\", \"__globals__\", \"__dict__\",\\n    \"__closure__\", \"__annotations__\", \"__kwdefaults__\",\\n]\\n\\nfor attribute in special_attributes:\\n    print(attribute, \\'->\\', getattr(multiplication, attribute))', '# function attributes \\ndef multiplication(a, b=1):\\n    \"\"\"Return a multiplied by b. \"\"\"\\n    return a * b\\n\\nspecial_attributes = [\\n    \"__doc__\", \"__name__\", \"__qualname__\", \"__module__\",\\n    \"__defaults__\", \"__code__\", \"__globals__\", \"__dict__\",\\n    \"__closure__\", \"__annotations__\", \"__kwdefaults__\",\\n]\\n\\nfor attribute in special_attributes:\\n    print(attribute, \\'->\\', getattr(multiplication, attribute))\\n    \\nprint(multiplication[\\'__doc__\\'])', '# function attributes \\ndef multiplication(a, b=1):\\n    \"\"\"Return a multiplied by b. \"\"\"\\n    return a * b\\n\\nspecial_attributes = [\\n    \"__doc__\", \"__name__\", \"__qualname__\", \"__module__\",\\n    \"__defaults__\", \"__code__\", \"__globals__\", \"__dict__\",\\n    \"__closure__\", \"__annotations__\", \"__kwdefaults__\",\\n]\\n\\nfor attribute in special_attributes:\\n    print(attribute, \\'->\\', getattr(multiplication, attribute))\\n    \\nprint(multiplication[__doc__])', '# function attributes \\ndef multiplication(a, b=1):\\n    \"\"\"Return a multiplied by b. \"\"\"\\n    return a * b\\n\\nspecial_attributes = [\\n    \"__doc__\", \"__name__\", \"__qualname__\", \"__module__\",\\n    \"__defaults__\", \"__code__\", \"__globals__\", \"__dict__\",\\n    \"__closure__\", \"__annotations__\", \"__kwdefaults__\",\\n]\\n\\nfor attribute in special_attributes:\\n    print(attribute, \\'->\\', getattr(multiplication, attribute))\\n    \\nprint(getattr(multiplication, \\'__doc__\\'))'], '_oh': {7: [1, 4, 5, 7]}, '_dh': ['/Users/byungmook/Documents/dev/learning-python/Ch4. Functions, the building blocks of code'], 'In': ['', \"def func():\\n    pass\\n\\nfunc() # the return of this call won't be collected. It's lost.\\na = func() # the return of this one instead is collected into `a` \\nprint(a) # prints: None\", 'def factorial(n):\\n    if n in (0, 1):\\n        return 1\\n    result = n\\n    for k in range(2, n):\\n        result *= k\\n    return result\\n\\nf5 = factorial(5)  # f5 = 120', 'def factorial(n):\\n    if n in (0, 1):\\n        return 1\\n    result = n\\n    for k in range(2, n):\\n        result *= k\\n    return result\\n\\nf5 = factorial(5)  # f5 = 120\\nprint(f5)', 'def factorial(n):\\n    if n in (0, 1):\\n        return 1\\n    result = n\\n    for k in range(2, n):\\n        result *= k\\n    return result\\n\\nf5 = factorial(5)  # f5 = 120\\nprint(f5)\\n\\n\\n# More Pythonic way \\nfrom functools import reduce\\nfrom operator import mul\\ndef factorial(n):\\n    return reduce(mul, range(1, n + 1), 1)\\n\\nf5 = factorial(5)  # f5 = 120\\nprint(f5)', 'def moddiv(a, b):\\n    return a // b, a % b \\n\\nprint(moddiv(20, 7)) # prints (2, 6)', '#Returning multiple values\\ndef moddiv(a, b):\\n    return a // b, a % b \\n\\nprint(moddiv(20, 7)) # prints (2, 6)', 'numbers = [4, 1, 7, 5]\\nsorted(numbers)', 'numbers = [4, 1, 7, 5]\\nsorted_numbres = sorted(numbers)\\n\\nprint(numbers)\\nprint(sorted_numbers)\\n\\nnumbers.sort()\\nprint(numbers)', 'numbers = [4, 1, 7, 5]\\nsorted_numbers = sorted(numbers)\\n\\nprint(numbers)\\nprint(sorted_numbers)\\n\\nnumbers.sort()\\nprint(numbers)', '# Anonymous function (Lambda)\\n\\ndef is_multiple_of_five(n):\\n    return not n % 5\\ndef get_multiples_of_five(n):\\n    return list(filter(is_multiple_of_five, range(n)))\\nprint(get_multiples_of_five(50))', '# Anonymous function (Lambda)\\ndef is_multiple_of_five(n):\\n    return not n % 5\\ndef get_multiples_of_five(n):\\n    return list(filter(is_multiple_of_five, range(n)))\\nprint(get_multiples_of_five(50))\\n\\n\\ndef get_multiples_of_five(n):\\n    return list(filter(lambda k: not k % 5, range(n)))\\nprint(get_multiples_of_five(50))', '# Anonymous function (Lambda)\\n# 1) without lambda\\ndef is_multiple_of_five(n):\\n    return not n % 5\\ndef get_multiples_of_five(n):\\n    return list(filter(is_multiple_of_five, range(n)))\\nprint(get_multiples_of_five(50))\\n\\n\\n# 2) using lambda\\ndef get_multiples_of_five(n):\\n    return list(filter(lambda k: not k % 5, range(n)))\\nprint(get_multiples_of_five(50))', '# example 1: adder\\ndef adder(a, b):\\n    return a + b\\n# is equivalent to:\\nadder_lambda = lambda a, b: a + b\\n   \\n    \\n# example 2: to uppercase\\ndef to_upper(s):\\n    return s.upper()\\n# is equivalent to:\\nto_upper_lambda = lambda s: s.upper()', '# More Lambda Example\\n\\n# example 1: adder\\ndef adder(a, b):\\n    return a + b\\n# is equivalent to:\\nadder_lambda = lambda a, b: a + b\\n   \\n\\n# example 2: to uppercase\\ndef to_upper(s):\\n    return s.upper()\\n# is equivalent to:\\nto_upper_lambda = lambda s: s.upper()', 'def multiplication(a, b=1):\\n    \"\"\"Return a multiplied by b. \"\"\"\\n    return a * b\\n\\nspecial_attributes = [\\n    \"__doc__\", \"__name__\", \"__qualname__\", \"__module__\",\\n    \"__defaults__\", \"__code__\", \"__globals__\", \"__dict__\",\\n    \"__closure__\", \"__annotations__\", \"__kwdefaults__\",\\n]\\n\\nfor attribute in special_attributes:\\n    print(attribute, \\'->\\', getattr(multiplication, attribute))', '# function attributes \\ndef multiplication(a**, b=1):\\n    \"\"\"Return a multiplied by b. \"\"\"\\n    return a * b\\n\\nspecial_attributes = [\\n    \"__doc__\", \"__name__\", \"__qualname__\", \"__module__\",\\n    \"__defaults__\", \"__code__\", \"__globals__\", \"__dict__\",\\n    \"__closure__\", \"__annotations__\", \"__kwdefaults__\",\\n]\\n\\nfor attribute in special_attributes:\\n    print(attribute, \\'->\\', getattr(multiplication, attribute))', '# function attributes \\ndef multiplication(**a, b=1):\\n    \"\"\"Return a multiplied by b. \"\"\"\\n    return a * b\\n\\nspecial_attributes = [\\n    \"__doc__\", \"__name__\", \"__qualname__\", \"__module__\",\\n    \"__defaults__\", \"__code__\", \"__globals__\", \"__dict__\",\\n    \"__closure__\", \"__annotations__\", \"__kwdefaults__\",\\n]\\n\\nfor attribute in special_attributes:\\n    print(attribute, \\'->\\', getattr(multiplication, attribute))', '# function attributes \\ndef multiplication(a, b=1, **c):\\n    \"\"\"Return a multiplied by b. \"\"\"\\n    return a * b\\n\\nspecial_attributes = [\\n    \"__doc__\", \"__name__\", \"__qualname__\", \"__module__\",\\n    \"__defaults__\", \"__code__\", \"__globals__\", \"__dict__\",\\n    \"__closure__\", \"__annotations__\", \"__kwdefaults__\",\\n]\\n\\nfor attribute in special_attributes:\\n    print(attribute, \\'->\\', getattr(multiplication, attribute))', '# function attributes \\ndef multiplication(a, b=1):\\n    \"\"\"Return a multiplied by b. \"\"\"\\n    return a * b\\n\\nspecial_attributes = [\\n    \"__doc__\", \"__name__\", \"__qualname__\", \"__module__\",\\n    \"__defaults__\", \"__code__\", \"__globals__\", \"__dict__\",\\n    \"__closure__\", \"__annotations__\", \"__kwdefaults__\",\\n]\\n\\nfor attribute in special_attributes:\\n    print(attribute, \\'->\\', getattr(multiplication, attribute))', '# function attributes \\ndef multiplication(a, b=1):\\n    \"\"\"Return a multiplied by b. \"\"\"\\n    return a * b\\n\\nspecial_attributes = [\\n    \"__doc__\", \"__name__\", \"__qualname__\", \"__module__\",\\n    \"__defaults__\", \"__code__\", \"__globals__\", \"__dict__\",\\n    \"__closure__\", \"__annotations__\", \"__kwdefaults__\",\\n]\\n\\nfor attribute in special_attributes:\\n    print(attribute, \\'->\\', getattr(multiplication, attribute))', '# function attributes \\ndef multiplication(a, b=1):\\n    \"\"\"Return a multiplied by b. \"\"\"\\n    return a * b\\n\\nspecial_attributes = [\\n    \"__doc__\", \"__name__\", \"__qualname__\", \"__module__\",\\n    \"__defaults__\", \"__code__\", \"__globals__\", \"__dict__\",\\n    \"__closure__\", \"__annotations__\", \"__kwdefaults__\",\\n]\\n\\nfor attribute in special_attributes:\\n    print(attribute, \\'->\\', getattr(multiplication, attribute))\\n    \\nprint(multiplication[\\'__doc__\\'])', '# function attributes \\ndef multiplication(a, b=1):\\n    \"\"\"Return a multiplied by b. \"\"\"\\n    return a * b\\n\\nspecial_attributes = [\\n    \"__doc__\", \"__name__\", \"__qualname__\", \"__module__\",\\n    \"__defaults__\", \"__code__\", \"__globals__\", \"__dict__\",\\n    \"__closure__\", \"__annotations__\", \"__kwdefaults__\",\\n]\\n\\nfor attribute in special_attributes:\\n    print(attribute, \\'->\\', getattr(multiplication, attribute))\\n    \\nprint(multiplication[__doc__])', '# function attributes \\ndef multiplication(a, b=1):\\n    \"\"\"Return a multiplied by b. \"\"\"\\n    return a * b\\n\\nspecial_attributes = [\\n    \"__doc__\", \"__name__\", \"__qualname__\", \"__module__\",\\n    \"__defaults__\", \"__code__\", \"__globals__\", \"__dict__\",\\n    \"__closure__\", \"__annotations__\", \"__kwdefaults__\",\\n]\\n\\nfor attribute in special_attributes:\\n    print(attribute, \\'->\\', getattr(multiplication, attribute))\\n    \\nprint(getattr(multiplication, \\'__doc__\\'))'], 'Out': {7: [1, 4, 5, 7]}, 'get_ipython': <bound method InteractiveShell.get_ipython of <ipykernel.zmqshell.ZMQInteractiveShell object at 0x105ccbdd8>>, 'exit': <IPython.core.autocall.ZMQExitAutocall object at 0x107ab6278>, 'quit': <IPython.core.autocall.ZMQExitAutocall object at 0x107ab6278>, '_': [1, 4, 5, 7], '__': '', '___': '', '_i': '# function attributes \\ndef multiplication(a, b=1):\\n    \"\"\"Return a multiplied by b. \"\"\"\\n    return a * b\\n\\nspecial_attributes = [\\n    \"__doc__\", \"__name__\", \"__qualname__\", \"__module__\",\\n    \"__defaults__\", \"__code__\", \"__globals__\", \"__dict__\",\\n    \"__closure__\", \"__annotations__\", \"__kwdefaults__\",\\n]\\n\\nfor attribute in special_attributes:\\n    print(attribute, \\'->\\', getattr(multiplication, attribute))\\n    \\nprint(multiplication[__doc__])', '_ii': '# function attributes \\ndef multiplication(a, b=1):\\n    \"\"\"Return a multiplied by b. \"\"\"\\n    return a * b\\n\\nspecial_attributes = [\\n    \"__doc__\", \"__name__\", \"__qualname__\", \"__module__\",\\n    \"__defaults__\", \"__code__\", \"__globals__\", \"__dict__\",\\n    \"__closure__\", \"__annotations__\", \"__kwdefaults__\",\\n]\\n\\nfor attribute in special_attributes:\\n    print(attribute, \\'->\\', getattr(multiplication, attribute))\\n    \\nprint(multiplication[\\'__doc__\\'])', '_iii': '# function attributes \\ndef multiplication(a, b=1):\\n    \"\"\"Return a multiplied by b. \"\"\"\\n    return a * b\\n\\nspecial_attributes = [\\n    \"__doc__\", \"__name__\", \"__qualname__\", \"__module__\",\\n    \"__defaults__\", \"__code__\", \"__globals__\", \"__dict__\",\\n    \"__closure__\", \"__annotations__\", \"__kwdefaults__\",\\n]\\n\\nfor attribute in special_attributes:\\n    print(attribute, \\'->\\', getattr(multiplication, attribute))', '_i1': \"def func():\\n    pass\\n\\nfunc() # the return of this call won't be collected. It's lost.\\na = func() # the return of this one instead is collected into `a` \\nprint(a) # prints: None\", 'func': <function func at 0x107ba5950>, 'a': None, '_i2': 'def factorial(n):\\n    if n in (0, 1):\\n        return 1\\n    result = n\\n    for k in range(2, n):\\n        result *= k\\n    return result\\n\\nf5 = factorial(5)  # f5 = 120', 'factorial': <function factorial at 0x107ba59d8>, 'f5': 120, '_i3': 'def factorial(n):\\n    if n in (0, 1):\\n        return 1\\n    result = n\\n    for k in range(2, n):\\n        result *= k\\n    return result\\n\\nf5 = factorial(5)  # f5 = 120\\nprint(f5)', '_i4': 'def factorial(n):\\n    if n in (0, 1):\\n        return 1\\n    result = n\\n    for k in range(2, n):\\n        result *= k\\n    return result\\n\\nf5 = factorial(5)  # f5 = 120\\nprint(f5)\\n\\n\\n# More Pythonic way \\nfrom functools import reduce\\nfrom operator import mul\\ndef factorial(n):\\n    return reduce(mul, range(1, n + 1), 1)\\n\\nf5 = factorial(5)  # f5 = 120\\nprint(f5)', 'reduce': <built-in function reduce>, 'mul': <built-in function mul>, '_i5': 'def moddiv(a, b):\\n    return a // b, a % b \\n\\nprint(moddiv(20, 7)) # prints (2, 6)', 'moddiv': <function moddiv at 0x107ba5ae8>, '_i6': '#Returning multiple values\\ndef moddiv(a, b):\\n    return a // b, a % b \\n\\nprint(moddiv(20, 7)) # prints (2, 6)', '_i7': 'numbers = [4, 1, 7, 5]\\nsorted(numbers)', 'numbers': [1, 4, 5, 7], '_7': [1, 4, 5, 7], '_i8': 'numbers = [4, 1, 7, 5]\\nsorted_numbres = sorted(numbers)\\n\\nprint(numbers)\\nprint(sorted_numbers)\\n\\nnumbers.sort()\\nprint(numbers)', 'sorted_numbres': [1, 4, 5, 7], '_i9': 'numbers = [4, 1, 7, 5]\\nsorted_numbers = sorted(numbers)\\n\\nprint(numbers)\\nprint(sorted_numbers)\\n\\nnumbers.sort()\\nprint(numbers)', 'sorted_numbers': [1, 4, 5, 7], '_i10': '# Anonymous function (Lambda)\\n\\ndef is_multiple_of_five(n):\\n    return not n % 5\\ndef get_multiples_of_five(n):\\n    return list(filter(is_multiple_of_five, range(n)))\\nprint(get_multiples_of_five(50))', 'is_multiple_of_five': <function is_multiple_of_five at 0x107c1af28>, 'get_multiples_of_five': <function get_multiples_of_five at 0x107ba51e0>, '_i11': '# Anonymous function (Lambda)\\ndef is_multiple_of_five(n):\\n    return not n % 5\\ndef get_multiples_of_five(n):\\n    return list(filter(is_multiple_of_five, range(n)))\\nprint(get_multiples_of_five(50))\\n\\n\\ndef get_multiples_of_five(n):\\n    return list(filter(lambda k: not k % 5, range(n)))\\nprint(get_multiples_of_five(50))', '_i12': '# Anonymous function (Lambda)\\n# 1) without lambda\\ndef is_multiple_of_five(n):\\n    return not n % 5\\ndef get_multiples_of_five(n):\\n    return list(filter(is_multiple_of_five, range(n)))\\nprint(get_multiples_of_five(50))\\n\\n\\n# 2) using lambda\\ndef get_multiples_of_five(n):\\n    return list(filter(lambda k: not k % 5, range(n)))\\nprint(get_multiples_of_five(50))', '_i13': '# example 1: adder\\ndef adder(a, b):\\n    return a + b\\n# is equivalent to:\\nadder_lambda = lambda a, b: a + b\\n   \\n    \\n# example 2: to uppercase\\ndef to_upper(s):\\n    return s.upper()\\n# is equivalent to:\\nto_upper_lambda = lambda s: s.upper()', 'adder': <function adder at 0x1067c8598>, 'adder_lambda': <function <lambda> at 0x107c1ae18>, 'to_upper': <function to_upper at 0x107c1aea0>, 'to_upper_lambda': <function <lambda> at 0x107c1ab70>, '_i14': '# More Lambda Example\\n\\n# example 1: adder\\ndef adder(a, b):\\n    return a + b\\n# is equivalent to:\\nadder_lambda = lambda a, b: a + b\\n   \\n\\n# example 2: to uppercase\\ndef to_upper(s):\\n    return s.upper()\\n# is equivalent to:\\nto_upper_lambda = lambda s: s.upper()', '_i15': 'def multiplication(a, b=1):\\n    \"\"\"Return a multiplied by b. \"\"\"\\n    return a * b\\n\\nspecial_attributes = [\\n    \"__doc__\", \"__name__\", \"__qualname__\", \"__module__\",\\n    \"__defaults__\", \"__code__\", \"__globals__\", \"__dict__\",\\n    \"__closure__\", \"__annotations__\", \"__kwdefaults__\",\\n]\\n\\nfor attribute in special_attributes:\\n    print(attribute, \\'->\\', getattr(multiplication, attribute))', 'multiplication': <function multiplication at 0x10802f510>, 'special_attributes': ['__doc__', '__name__', '__qualname__', '__module__', '__defaults__', '__code__', '__globals__', '__dict__', '__closure__', '__annotations__', '__kwdefaults__'], 'attribute': '__globals__', '_i16': '# function attributes \\ndef multiplication(a**, b=1):\\n    \"\"\"Return a multiplied by b. \"\"\"\\n    return a * b\\n\\nspecial_attributes = [\\n    \"__doc__\", \"__name__\", \"__qualname__\", \"__module__\",\\n    \"__defaults__\", \"__code__\", \"__globals__\", \"__dict__\",\\n    \"__closure__\", \"__annotations__\", \"__kwdefaults__\",\\n]\\n\\nfor attribute in special_attributes:\\n    print(attribute, \\'->\\', getattr(multiplication, attribute))', '_i17': '# function attributes \\ndef multiplication(**a, b=1):\\n    \"\"\"Return a multiplied by b. \"\"\"\\n    return a * b\\n\\nspecial_attributes = [\\n    \"__doc__\", \"__name__\", \"__qualname__\", \"__module__\",\\n    \"__defaults__\", \"__code__\", \"__globals__\", \"__dict__\",\\n    \"__closure__\", \"__annotations__\", \"__kwdefaults__\",\\n]\\n\\nfor attribute in special_attributes:\\n    print(attribute, \\'->\\', getattr(multiplication, attribute))', '_i18': '# function attributes \\ndef multiplication(a, b=1, **c):\\n    \"\"\"Return a multiplied by b. \"\"\"\\n    return a * b\\n\\nspecial_attributes = [\\n    \"__doc__\", \"__name__\", \"__qualname__\", \"__module__\",\\n    \"__defaults__\", \"__code__\", \"__globals__\", \"__dict__\",\\n    \"__closure__\", \"__annotations__\", \"__kwdefaults__\",\\n]\\n\\nfor attribute in special_attributes:\\n    print(attribute, \\'->\\', getattr(multiplication, attribute))', '_i19': '# function attributes \\ndef multiplication(a, b=1):\\n    \"\"\"Return a multiplied by b. \"\"\"\\n    return a * b\\n\\nspecial_attributes = [\\n    \"__doc__\", \"__name__\", \"__qualname__\", \"__module__\",\\n    \"__defaults__\", \"__code__\", \"__globals__\", \"__dict__\",\\n    \"__closure__\", \"__annotations__\", \"__kwdefaults__\",\\n]\\n\\nfor attribute in special_attributes:\\n    print(attribute, \\'->\\', getattr(multiplication, attribute))', '_i20': '# function attributes \\ndef multiplication(a, b=1):\\n    \"\"\"Return a multiplied by b. \"\"\"\\n    return a * b\\n\\nspecial_attributes = [\\n    \"__doc__\", \"__name__\", \"__qualname__\", \"__module__\",\\n    \"__defaults__\", \"__code__\", \"__globals__\", \"__dict__\",\\n    \"__closure__\", \"__annotations__\", \"__kwdefaults__\",\\n]\\n\\nfor attribute in special_attributes:\\n    print(attribute, \\'->\\', getattr(multiplication, attribute))', '_i21': '# function attributes \\ndef multiplication(a, b=1):\\n    \"\"\"Return a multiplied by b. \"\"\"\\n    return a * b\\n\\nspecial_attributes = [\\n    \"__doc__\", \"__name__\", \"__qualname__\", \"__module__\",\\n    \"__defaults__\", \"__code__\", \"__globals__\", \"__dict__\",\\n    \"__closure__\", \"__annotations__\", \"__kwdefaults__\",\\n]\\n\\nfor attribute in special_attributes:\\n    print(attribute, \\'->\\', getattr(multiplication, attribute))\\n    \\nprint(multiplication[\\'__doc__\\'])', '_i22': '# function attributes \\ndef multiplication(a, b=1):\\n    \"\"\"Return a multiplied by b. \"\"\"\\n    return a * b\\n\\nspecial_attributes = [\\n    \"__doc__\", \"__name__\", \"__qualname__\", \"__module__\",\\n    \"__defaults__\", \"__code__\", \"__globals__\", \"__dict__\",\\n    \"__closure__\", \"__annotations__\", \"__kwdefaults__\",\\n]\\n\\nfor attribute in special_attributes:\\n    print(attribute, \\'->\\', getattr(multiplication, attribute))\\n    \\nprint(multiplication[__doc__])', '_i23': '# function attributes \\ndef multiplication(a, b=1):\\n    \"\"\"Return a multiplied by b. \"\"\"\\n    return a * b\\n\\nspecial_attributes = [\\n    \"__doc__\", \"__name__\", \"__qualname__\", \"__module__\",\\n    \"__defaults__\", \"__code__\", \"__globals__\", \"__dict__\",\\n    \"__closure__\", \"__annotations__\", \"__kwdefaults__\",\\n]\\n\\nfor attribute in special_attributes:\\n    print(attribute, \\'->\\', getattr(multiplication, attribute))\\n    \\nprint(getattr(multiplication, \\'__doc__\\'))'}\n",
      "__dict__ -> {}\n",
      "__closure__ -> None\n",
      "__annotations__ -> {}\n",
      "__kwdefaults__ -> None\n",
      "Return a multiplied by b. \n"
     ]
    }
   ],
   "source": [
    "# function attributes \n",
    "def multiplication(a, b=1):\n",
    "    \"\"\"Return a multiplied by b. \"\"\"\n",
    "    return a * b\n",
    "\n",
    "special_attributes = [\n",
    "    \"__doc__\", \"__name__\", \"__qualname__\", \"__module__\",\n",
    "    \"__defaults__\", \"__code__\", \"__globals__\", \"__dict__\",\n",
    "    \"__closure__\", \"__annotations__\", \"__kwdefaults__\",\n",
    "]\n",
    "\n",
    "for attribute in special_attributes:\n",
    "    print(attribute, '->', getattr(multiplication, attribute))"
   ]
  },
  {
   "cell_type": "code",
   "execution_count": 25,
   "metadata": {},
   "outputs": [
    {
     "name": "stdout",
     "output_type": "stream",
     "text": [
      "Connect to a database.\n",
      "    Connect to a PostgreSQL database directly, using the given\n",
      "    parameters.\n",
      "    :param host: The host IP.\n",
      "    :param port: The desired port.\n",
      "    :param user: The connection username.\n",
      "    :param password: The connection password.\n",
      "    :return: The connection object.\n",
      "    \n"
     ]
    }
   ],
   "source": [
    "# documenting your code\n",
    "def connect(host, port, user, password):\n",
    "    \"\"\"Connect to a database.\n",
    "    Connect to a PostgreSQL database directly, using the given\n",
    "    parameters.\n",
    "    :param host: The host IP.\n",
    "    :param port: The desired port.\n",
    "    :param user: The connection username.\n",
    "    :param password: The connection password.\n",
    "    :return: The connection object.\n",
    "    \"\"\"\n",
    "    # body of the function here...\n",
    "    return connection\n",
    "\n",
    "print(getattr(connect, '__doc__'))"
   ]
  },
  {
   "cell_type": "code",
   "execution_count": 28,
   "metadata": {},
   "outputs": [
    {
     "ename": "ModuleNotFoundError",
     "evalue": "No module named 'mock'",
     "output_type": "error",
     "traceback": [
      "\u001b[0;31m---------------------------------------------------------------------------\u001b[0m",
      "\u001b[0;31mModuleNotFoundError\u001b[0m                       Traceback (most recent call last)",
      "\u001b[0;32m<ipython-input-28-0f15b8e57fcf>\u001b[0m in \u001b[0;36m<module>\u001b[0;34m\u001b[0m\n\u001b[1;32m      4\u001b[0m \u001b[0;32mfrom\u001b[0m \u001b[0mmath\u001b[0m \u001b[0;32mimport\u001b[0m \u001b[0msqrt\u001b[0m  \u001b[0;31m# imports one function from math\u001b[0m\u001b[0;34m\u001b[0m\u001b[0m\n\u001b[1;32m      5\u001b[0m \u001b[0;32mfrom\u001b[0m \u001b[0mrandom\u001b[0m \u001b[0;32mimport\u001b[0m \u001b[0mrandint\u001b[0m\u001b[0;34m,\u001b[0m \u001b[0msample\u001b[0m  \u001b[0;31m# two imports at once\u001b[0m\u001b[0;34m\u001b[0m\u001b[0m\n\u001b[0;32m----> 6\u001b[0;31m \u001b[0;32mfrom\u001b[0m \u001b[0mmock\u001b[0m \u001b[0;32mimport\u001b[0m \u001b[0mpatch\u001b[0m\u001b[0;34m\u001b[0m\u001b[0m\n\u001b[0m\u001b[1;32m      7\u001b[0m from nose.tools import (  # multiline import\n\u001b[1;32m      8\u001b[0m     \u001b[0massert_equal\u001b[0m\u001b[0;34m,\u001b[0m\u001b[0;34m\u001b[0m\u001b[0m\n",
      "\u001b[0;31mModuleNotFoundError\u001b[0m: No module named 'mock'"
     ]
    }
   ],
   "source": [
    "# importing objects\n",
    "\n",
    "import unittest  # imports the unittest module\n",
    "from math import sqrt  # imports one function from math\n",
    "from random import randint, sample  # two imports at once\n",
    "from mock import patch\n",
    "from nose.tools import (  # multiline import\n",
    "    assert_equal,\n",
    "    assert_list_equal,\n",
    "    assert_not_in,\n",
    ")\n",
    "from karma import nt, utils"
   ]
  },
  {
   "cell_type": "code",
   "execution_count": null,
   "metadata": {},
   "outputs": [],
   "source": []
  }
 ],
 "metadata": {
  "kernelspec": {
   "display_name": "Python 3",
   "language": "python",
   "name": "python3"
  },
  "language_info": {
   "codemirror_mode": {
    "name": "ipython",
    "version": 3
   },
   "file_extension": ".py",
   "mimetype": "text/x-python",
   "name": "python",
   "nbconvert_exporter": "python",
   "pygments_lexer": "ipython3",
   "version": "3.6.5"
  }
 },
 "nbformat": 4,
 "nbformat_minor": 2
}
