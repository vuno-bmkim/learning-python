{
 "cells": [
  {
   "cell_type": "markdown",
   "metadata": {},
   "source": [
    "# Changing a mutable affects the caller"
   ]
  },
  {
   "cell_type": "code",
   "execution_count": 34,
   "metadata": {},
   "outputs": [
    {
     "name": "stdout",
     "output_type": "stream",
     "text": [
      "[1, 42, 3]\n"
     ]
    }
   ],
   "source": [
    "x = [1, 2, 3]\n",
    "def func(x):\n",
    "    x[1] = 42  # this affects the caller!\n",
    "\n",
    "func(x)\n",
    "print(x)  # prints: [1, 42, 3]"
   ]
  },
  {
   "cell_type": "code",
   "execution_count": 40,
   "metadata": {},
   "outputs": [
    {
     "name": "stdout",
     "output_type": "stream",
     "text": [
      "4598280648\n",
      "4560013984\n",
      "4597579888\n",
      "4563118600\n",
      "4598280648\n",
      "4560015264\n",
      "[1, 42, 3]\n"
     ]
    }
   ],
   "source": [
    "x = [1, 2, 3]\n",
    "def func(x):\n",
    "    x[1] = 42\n",
    "    x = 'something else'\n",
    "    print(id(x))\n",
    "    print(id(x[1]))\n",
    "\n",
    "print(id(x))\n",
    "print(id(x[1]))\n",
    "func(x)\n",
    "print(id(x))\n",
    "print(id(x[1]))\n",
    "print(x)"
   ]
  },
  {
   "cell_type": "code",
   "execution_count": 43,
   "metadata": {},
   "outputs": [
    {
     "name": "stdout",
     "output_type": "stream",
     "text": [
      "42\n"
     ]
    }
   ],
   "source": [
    "class Person():\n",
    "    def __init__(self, age):\n",
    "        self.age = age\n",
    "        \n",
    "        \n",
    "person = Person(30)\n",
    "def func(person):\n",
    "    person.age = 42\n",
    "    person = \"something else\"\n",
    "\n",
    "func(person)    \n",
    "print(person.age)\n",
    "# 오.. custom class의 경우도 내부 필드는 함수에서 변경한게 적용됨. 그러나 class object 자체는 반영되지 않음. "
   ]
  },
  {
   "cell_type": "markdown",
   "metadata": {},
   "source": [
    "# How to specify input parameters"
   ]
  },
  {
   "cell_type": "code",
   "execution_count": 44,
   "metadata": {},
   "outputs": [
    {
     "name": "stdout",
     "output_type": "stream",
     "text": [
      "1 2 3\n"
     ]
    }
   ],
   "source": [
    "def func(a, b, c):\n",
    "    print(a, b, c)\n",
    "func(1, 2, 3)"
   ]
  },
  {
   "cell_type": "code",
   "execution_count": 45,
   "metadata": {},
   "outputs": [
    {
     "name": "stdout",
     "output_type": "stream",
     "text": [
      "1 3 2\n"
     ]
    }
   ],
   "source": [
    "def func(a, b, c):\n",
    "    print(a, b, c)\n",
    "func(a=1, c=2, b=3) #keyword를 통해 인자 명시 및 인자 순서 변경 가능 "
   ]
  },
  {
   "cell_type": "code",
   "execution_count": 47,
   "metadata": {},
   "outputs": [
    {
     "name": "stdout",
     "output_type": "stream",
     "text": [
      "1 4 88\n",
      "7 5 9\n",
      "42 4 9\n"
     ]
    }
   ],
   "source": [
    "def func(a, b=4, c=88): \n",
    "    print(a, b, c)\n",
    "    \n",
    "func(1)\n",
    "func(b=5, a=7, c=9)\n",
    "func(42, c=9) \n",
    "# defualt 있는 인자는 인자 없이 호출 가능 "
   ]
  },
  {
   "cell_type": "code",
   "execution_count": 49,
   "metadata": {},
   "outputs": [
    {
     "name": "stdout",
     "output_type": "stream",
     "text": [
      "-7\n"
     ]
    }
   ],
   "source": [
    "def minimum(*n):\n",
    "    # print(n) # n is a tuple\n",
    "    if n: # explained after the code\n",
    "        mn = n[0]\n",
    "        for value in n[1:]:\n",
    "            if value < mn:\n",
    "                mn = value\n",
    "        print(mn)\n",
    "        \n",
    "minimum(1, 3, -7, 9)\n",
    "minimum()"
   ]
  },
  {
   "cell_type": "code",
   "execution_count": 50,
   "metadata": {},
   "outputs": [
    {
     "name": "stdout",
     "output_type": "stream",
     "text": [
      "((1, 3, -7, 9),)\n",
      "(1, 3, -7, 9)\n"
     ]
    }
   ],
   "source": [
    "def func(*args):\n",
    "    print(args)\n",
    "\n",
    "values = (1, 3, -7, 9)\n",
    "func(values) # equivalent to: func((1, 3, -7, 9)) \n",
    "func(*values) # equivalent to: func(1, 3, -7, 9)"
   ]
  },
  {
   "cell_type": "code",
   "execution_count": 55,
   "metadata": {},
   "outputs": [
    {
     "name": "stdout",
     "output_type": "stream",
     "text": [
      "{'a': 1, 'b': 42}\n",
      "{'a': 1, 'b': 42}\n",
      "{'a': 1, 'b': 42}\n"
     ]
    }
   ],
   "source": [
    "def func(**kwargs):\n",
    "    print(kwargs)\n",
    "# All calls equivalent. They print: {'a': 1, 'b': 42}\n",
    "func(a=1, b=42)\n",
    "func(**{'a': 1, 'b': 42})\n",
    "func(**dict(a=1, b=42))"
   ]
  },
  {
   "cell_type": "code",
   "execution_count": 58,
   "metadata": {},
   "outputs": [
    {
     "name": "stdout",
     "output_type": "stream",
     "text": [
      "{'host': '127.0.0.1', 'port': 5432, 'user': '', 'pwd': ''}\n",
      "{'host': '127.0.0.42', 'port': 5433, 'user': '', 'pwd': ''}\n",
      "{'host': '127.0.0.1', 'port': 5431, 'user': 'fab', 'pwd': 'gandalf'}\n"
     ]
    }
   ],
   "source": [
    "def connect(**options): \n",
    "    conn_params = {\n",
    "        'host': options.get('host', '127.0.0.1'),\n",
    "        'port': options.get('port', 5432),\n",
    "        'user': options.get('user', ''),\n",
    "        'pwd': options.get('pwd', ''),\n",
    "        }\n",
    "    print(conn_params)\n",
    "\n",
    "# we then connect to the db (commented out) # db.connect(**conn_params)\n",
    "connect()\n",
    "connect(host='127.0.0.42', port=5433)\n",
    "connect(port=5431, user='fab', pwd='gandalf')"
   ]
  },
  {
   "cell_type": "code",
   "execution_count": 64,
   "metadata": {},
   "outputs": [
    {
     "name": "stdout",
     "output_type": "stream",
     "text": [
      "(1, 2, 3) 7\n",
      "() 4\n",
      "3 7 99\n",
      "3 42 13\n"
     ]
    }
   ],
   "source": [
    "def kwo(*a, c): \n",
    "    print(a, c)\n",
    "\n",
    "kwo(1, 2, 3, c=7)  # prints: (1, 2, 3) \n",
    "kwo(c=4)           # prints: () 4\n",
    "# kwo(1, 2)  # breaks, invalid syntax, with the following error\n",
    "# TypeError: kwo() missing 1 required keyword-only argument: 'c'\n",
    "\n",
    "def kwo2(a, b=42, *, c): \n",
    "    print(a, b, c)\n",
    "\n",
    "kwo2(3, b=7, c=99)  # prints: 3 7 99\n",
    "kwo2(3, c=13)       # prints: 3 42 13\n",
    "# kwo2(3, 23)  # breaks, invalid syntax, with the following error\n",
    "# TypeError: kwo2() missing 1 required keyword-only argument: 'c'"
   ]
  },
  {
   "cell_type": "code",
   "execution_count": 65,
   "metadata": {},
   "outputs": [
    {
     "name": "stdout",
     "output_type": "stream",
     "text": [
      "a, b, c: 1 2 3\n",
      "args: (5, 7, 9)\n",
      "kwargs: {'A': 'a', 'B': 'b'}\n",
      "a, b, c: 1 2 3\n",
      "args: (5, 7, 9)\n",
      "kwargs: {'A': 'a', 'B': 'b'}\n"
     ]
    }
   ],
   "source": [
    "def func(a, b, c=7, *args, **kwargs):\n",
    "    print('a, b, c:', a, b, c)\n",
    "    print('args:', args)\n",
    "    print('kwargs:', kwargs)\n",
    "\n",
    "func(1, 2, 3, *(5, 7, 9), **{'A': 'a', 'B': 'b'})\n",
    "func(1, 2, 3, 5, 7, 9, A='a', B='b')  # same as previous one"
   ]
  },
  {
   "cell_type": "code",
   "execution_count": 67,
   "metadata": {},
   "outputs": [
    {
     "name": "stdout",
     "output_type": "stream",
     "text": [
      "a, b: 3 42\n",
      "c, d: 0 1\n",
      "args: (7, 9, 11)\n",
      "kwargs: {'e': 'E', 'f': 'F'}\n",
      "a, b: 3 42\n",
      "c, d: 0 1\n",
      "args: (7, 9, 11)\n",
      "kwargs: {'e': 'E', 'f': 'F'}\n"
     ]
    }
   ],
   "source": [
    "def func_with_kwonly(a, b=42, *args, c, d=256, **kwargs): \n",
    "    print('a, b:', a, b)\n",
    "    print('c, d:', c, d)\n",
    "    print('args:', args)\n",
    "    print('kwargs:', kwargs)\n",
    "   \n",
    "#both calls equivalent\n",
    "func_with_kwonly(3, 42, c=0, d=1, *(7, 9, 11), e='E', f='F')\n",
    "func_with_kwonly(3, 42, *(7, 9, 11), c=0, d=1, e='E', f='F')"
   ]
  },
  {
   "cell_type": "code",
   "execution_count": 70,
   "metadata": {},
   "outputs": [
    {
     "name": "stdout",
     "output_type": "stream",
     "text": [
      "[]\n",
      "{}\n",
      "############\n",
      "[0]\n",
      "{1: 1}\n",
      "############\n",
      "[0, 1]\n",
      "{1: 1, 2: 2}\n",
      "############\n"
     ]
    }
   ],
   "source": [
    "def func(a=[], b={}): \n",
    "    print(a)\n",
    "    print(b)\n",
    "    print('#' * 12)\n",
    "    a.append(len(a))  # this will affect a's default value\n",
    "    b[len(a)] = len(a)  # and this will affect b's one\n",
    "\n",
    "func()\n",
    "func()\n",
    "func()"
   ]
  },
  {
   "cell_type": "code",
   "execution_count": 73,
   "metadata": {},
   "outputs": [
    {
     "name": "stdout",
     "output_type": "stream",
     "text": [
      "[]\n",
      "{}\n",
      "############\n",
      "[1, 2, 3]\n",
      "{'B': 1}\n",
      "############\n",
      "[0]\n",
      "{1: 1}\n",
      "############\n"
     ]
    }
   ],
   "source": [
    "def func(a=[], b={}): \n",
    "    print(a)\n",
    "    print(b)\n",
    "    print('#' * 12)\n",
    "    a.append(len(a))  # this will affect a's default value\n",
    "    b[len(a)] = len(a)  # and this will affect b's one\n",
    "    \n",
    "func()\n",
    "func(a=[1, 2, 3], b={'B': 1})\n",
    "func()"
   ]
  },
  {
   "cell_type": "code",
   "execution_count": 77,
   "metadata": {},
   "outputs": [
    {
     "name": "stdout",
     "output_type": "stream",
     "text": [
      "[]\n",
      "{}\n",
      "############\n",
      "[]\n",
      "{}\n",
      "############\n",
      "[]\n",
      "{}\n",
      "############\n"
     ]
    }
   ],
   "source": [
    "def func(a=None, b=None): \n",
    "    if a is None:\n",
    "        a = []\n",
    "    if b is None:\n",
    "        b = {}\n",
    "    print(a)\n",
    "    print(b)\n",
    "    print('#' * 12)\n",
    "    a.append(len(a))  # this will affect a's default value\n",
    "    b[len(a)] = len(a)  # and this will affect b's one\n",
    "\n",
    "func()\n",
    "func()\n",
    "func()"
   ]
  },
  {
   "cell_type": "code",
   "execution_count": null,
   "metadata": {},
   "outputs": [],
   "source": []
  }
 ],
 "metadata": {
  "kernelspec": {
   "display_name": "Python 3",
   "language": "python",
   "name": "python3"
  },
  "language_info": {
   "codemirror_mode": {
    "name": "ipython",
    "version": 3
   },
   "file_extension": ".py",
   "mimetype": "text/x-python",
   "name": "python",
   "nbconvert_exporter": "python",
   "pygments_lexer": "ipython3",
   "version": "3.6.5"
  }
 },
 "nbformat": 4,
 "nbformat_minor": 2
}
