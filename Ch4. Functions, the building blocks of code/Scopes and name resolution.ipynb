{
 "cells": [
  {
   "cell_type": "markdown",
   "metadata": {},
   "source": [
    "# Funciton is a Object too"
   ]
  },
  {
   "cell_type": "code",
   "execution_count": 8,
   "metadata": {},
   "outputs": [
    {
     "name": "stdout",
     "output_type": "stream",
     "text": [
      "<class 'function'>\n"
     ]
    }
   ],
   "source": [
    "def hello():\n",
    "    print(\"hello\")\n",
    "    \n",
    "print(type(hello))"
   ]
  },
  {
   "cell_type": "code",
   "execution_count": 3,
   "metadata": {},
   "outputs": [
    {
     "name": "stdout",
     "output_type": "stream",
     "text": [
      "<class 'NoneType'>\n"
     ]
    }
   ],
   "source": [
    "print(type(None))"
   ]
  },
  {
   "cell_type": "markdown",
   "metadata": {},
   "source": [
    "# Scopes and name resolution"
   ]
  },
  {
   "cell_type": "code",
   "execution_count": 13,
   "metadata": {},
   "outputs": [
    {
     "name": "stdout",
     "output_type": "stream",
     "text": [
      "my_function: 1\n",
      "global: 0\n"
     ]
    }
   ],
   "source": [
    "def my_function():\n",
    "    test = 1 # this is defined in the local scope of the function \n",
    "    print('my_function:', test)\n",
    "\n",
    "test = 0 # this is defined in the global scope \n",
    "my_function()\n",
    "print('global:', test)"
   ]
  },
  {
   "cell_type": "code",
   "execution_count": 10,
   "metadata": {},
   "outputs": [
    {
     "name": "stdout",
     "output_type": "stream",
     "text": [
      "inner: 2\n",
      "outer: 1\n",
      "global: 0\n"
     ]
    }
   ],
   "source": [
    "def outer():\n",
    "    test = 1 # outer scope \n",
    "    \n",
    "    def inner():\n",
    "        test = 2 # inner scope\n",
    "        print('inner:', test)\n",
    "\n",
    "    inner()\n",
    "    print('outer:', test) \n",
    "test = 0 # global scope \n",
    "outer()\n",
    "print('global:', test)"
   ]
  },
  {
   "cell_type": "code",
   "execution_count": 11,
   "metadata": {},
   "outputs": [
    {
     "name": "stdout",
     "output_type": "stream",
     "text": [
      "inner: 2\n",
      "outer: 2\n",
      "global: 0\n"
     ]
    }
   ],
   "source": [
    "def outer():\n",
    "    test = 1  # outer scope\n",
    "\n",
    "    def inner():\n",
    "        nonlocal test\n",
    "        test = 2 # nearest enclosing scope \n",
    "        print('inner:', test)\n",
    "    inner()\n",
    "    print('outer:', test)\n",
    "\n",
    "test = 0  # global scope\n",
    "outer()\n",
    "print('global:', test)"
   ]
  },
  {
   "cell_type": "code",
   "execution_count": 31,
   "metadata": {},
   "outputs": [
    {
     "name": "stdout",
     "output_type": "stream",
     "text": [
      "inner: 2\n",
      "outer: 1\n",
      "global: 2\n"
     ]
    }
   ],
   "source": [
    "def outer():\n",
    "    test = 1  # outer scope\n",
    "\n",
    "    def inner():\n",
    "        global test\n",
    "        test = 2 # global scope \n",
    "        print('inner:', test)\n",
    "\n",
    "    inner()\n",
    "    print('outer:', test)\n",
    "\n",
    "test = 0  # global scope\n",
    "outer()\n",
    "print('global:', test)"
   ]
  },
  {
   "cell_type": "code",
   "execution_count": 28,
   "metadata": {},
   "outputs": [
    {
     "name": "stdout",
     "output_type": "stream",
     "text": [
      "3\n"
     ]
    }
   ],
   "source": [
    "x = 3\n",
    "def func(y):\n",
    "    print(y)\n",
    "func(x)"
   ]
  },
  {
   "cell_type": "code",
   "execution_count": 33,
   "metadata": {},
   "outputs": [
    {
     "name": "stdout",
     "output_type": "stream",
     "text": [
      "7\n",
      "3\n"
     ]
    }
   ],
   "source": [
    "x = 3\n",
    "def func(x):\n",
    "    x = 7\n",
    "    print(x)\n",
    "    \n",
    "func(x)\n",
    "print(x)"
   ]
  }
 ],
 "metadata": {
  "kernelspec": {
   "display_name": "Python 3",
   "language": "python",
   "name": "python3"
  },
  "language_info": {
   "codemirror_mode": {
    "name": "ipython",
    "version": 3
   },
   "file_extension": ".py",
   "mimetype": "text/x-python",
   "name": "python",
   "nbconvert_exporter": "python",
   "pygments_lexer": "ipython3",
   "version": "3.6.5"
  }
 },
 "nbformat": 4,
 "nbformat_minor": 2
}
